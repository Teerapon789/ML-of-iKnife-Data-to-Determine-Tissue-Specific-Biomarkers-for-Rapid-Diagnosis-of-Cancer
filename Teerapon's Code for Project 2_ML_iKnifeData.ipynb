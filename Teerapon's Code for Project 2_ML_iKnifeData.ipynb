{
 "cells": [
  {
   "cell_type": "code",
   "execution_count": 257,
   "metadata": {},
   "outputs": [],
   "source": [
    "import numpy as np\n",
    "import scipy.stats as st\n",
    "import sklearn.linear_model as lm\n",
    "import matplotlib.pyplot as plt\n",
    "import pandas as pd\n",
    "from pandas import DataFrame\n",
    "from io import StringIO\n",
    "%matplotlib inline\n",
    "\n",
    "from sklearn.model_selection import cross_val_score\n",
    "from sklearn.linear_model import LogisticRegression\n",
    "from sklearn.tree import DecisionTreeClassifier\n",
    "from sklearn.neighbors import KNeighborsClassifier\n",
    "from sklearn.discriminant_analysis import LinearDiscriminantAnalysis\n",
    "from sklearn.naive_bayes import GaussianNB\n",
    "from sklearn.svm import SVC\n",
    "from xgboost import XGBClassifier\n",
    "from sklearn.metrics import accuracy_score\n",
    "from sklearn.model_selection import GroupShuffleSplit\n",
    "from sklearn.model_selection import StratifiedKFold\n",
    "from sklearn.model_selection import KFold\n",
    "from sklearn.model_selection import RepeatedStratifiedKFold"
   ]
  },
  {
   "cell_type": "code",
   "execution_count": 157,
   "metadata": {},
   "outputs": [],
   "source": [
    "### Function of creating confusion matrix figure\n",
    "def print_confusion_matix(confusion_matrix, class_names, figsize = (10,7), fontsize=14):\n",
    "    import seaborn as sns\n",
    "    df_cm = pd.DataFrame(confusion_matrix, index=class_names, columns=class_names)\n",
    "    fig = plt.figure(figsize=figsize)\n",
    "    heatmap = sns.heatmap(df_cm, annot=True, fmt=\"g\")\n",
    "    \n",
    "    heatmap.yaxis.set_ticklabels(heatmap.yaxis.get_ticklabels(), rotation=0, ha='right', fontsize=fontsize)\n",
    "    heatmap.xaxis.set_ticklabels(heatmap.xaxis.get_ticklabels(), rotation=45, ha='right', fontsize=fontsize)\n",
    "    plt.ylabel('True label')\n",
    "    plt.xlabel('Predicted label')\n",
    "    return heatmap"
   ]
  },
  {
   "cell_type": "code",
   "execution_count": 231,
   "metadata": {},
   "outputs": [],
   "source": [
    "### Function of PQN normalisation \n",
    "def pqn_andNormalized(data):\n",
    "    \n",
    "    from sklearn.preprocessing import Normalizer\n",
    "    ref_spec = data.median(axis=0)\n",
    "    \n",
    "        \n",
    "    FoldChange = data / ref_spec[:,None].T\n",
    "    \n",
    "    na = FoldChange == 0\n",
    "    FoldChange[na] = np.nan\n",
    "    \n",
    "    median_FC = np.nanmedian(FoldChange, axis=1)\n",
    "    \n",
    "    median_FC[np.isinf(median_FC)] = 1\n",
    "    median_FC[np.isnan(median_FC)] = 1\n",
    "    median_FC[median_FC == 0] = 1\n",
    "    \n",
    "    data_norm = data / median_FC[:,None]\n",
    "    \n",
    "    \n",
    "    tmpData = data_norm[data_norm != 0]\n",
    "    logOS = np.nanmedian(tmpData)\n",
    "    data_norm = np.log(data_norm+logOS)\n",
    "    \n",
    "    scaler = Normalizer().fit(data_norm)\n",
    "    data_norm = scaler.transform(data_norm)\n",
    "\n",
    "    data_norm = DataFrame(data_norm)\n",
    "    data_norm.columns = data.columns\n",
    "    data_norm = data_norm * 1000\n",
    "        \n",
    "    return data_norm"
   ]
  },
  {
   "cell_type": "code",
   "execution_count": 232,
   "metadata": {},
   "outputs": [],
   "source": [
    "### Function of PCA analysis\n",
    "def pcaAnalysis(data):\n",
    "    import pandas as pd\n",
    "    from sklearn.decomposition import PCA\n",
    "    \n",
    "    pca = PCA(n_components=2)\n",
    "    pca_scores = pca.fit(data).transform(data)\n",
    "\n",
    "    pca_variance = pca.explained_variance_ratio_\n",
    "    pca_loading = pd.DataFrame(pca.components_.T, columns=['PC1', 'PC2'])\n",
    "    \n",
    "    return pca_scores, pca_variance, pca_loading\n"
   ]
  },
  {
   "cell_type": "code",
   "execution_count": 233,
   "metadata": {},
   "outputs": [],
   "source": [
    "## Function of constructing PCA plot\n",
    "def PCAplot(pca_scores, pca_variance, pca_loading, mz, group):\n",
    "\n",
    "    target_names,y = np.unique(group,return_inverse = True)\n",
    "\n",
    "    fig,axs = plt.subplots(ncols=3,constrained_layout=True,figsize=(15,5))\n",
    "\n",
    "\n",
    "    colors = ['red', 'navy','green','orange']\n",
    "    lw = 1\n",
    "\n",
    "    for color, i, target_name in zip(colors, [0,1,2,3], target_names):\n",
    "        axs[0].scatter(pca_scores[y == i, 0], pca_scores[y == i, 1], color=color, alpha=.5, lw=lw,label=target_name)\n",
    "    \n",
    "    axs[0].legend(loc='best', shadow=False, scatterpoints=1)\n",
    "    axs[0].set_title('PC scores plot')\n",
    "    axs[0].set_xlabel('PC1 %0.2f %%' % (pca_variance[0] * 100))\n",
    "    axs[0].set_ylabel('PC2 %0.2f %%' % (pca_variance[1] * 100))\n",
    "\n",
    "    axs[1].scatter(pca_loading['PC1'],pca_loading['PC2'])\n",
    "    axs[1].set_title('PC loadings plot')\n",
    "    axs[1].set_xlabel('PC1 %0.2f %%' % (pca_variance[0] * 100))\n",
    "    axs[1].set_ylabel('PC2 %0.2f %%' % (pca_variance[1] * 100))\n",
    "\n",
    "    axs[2].plot(mz,pca_loading['PC1'], 'red')\n",
    "    axs[2].plot(mz,pca_loading['PC2'], 'royalblue')\n",
    "    axs[2].set_title('PC loadings plot')\n",
    "    axs[2].set_xlabel('m/z')\n",
    "    axs[2].set_ylabel('PC loadings')\n",
    "    "
   ]
  },
  {
   "cell_type": "code",
   "execution_count": 234,
   "metadata": {},
   "outputs": [],
   "source": [
    "### Function of evaluation of eight machine learning algorithms for 10 iterations\n",
    "def ML_Evaluation(data, group1):\n",
    "    \n",
    "    ## To evaluate machine learning models with raw data (KFold)\n",
    "    from sklearn.model_selection import RepeatedKFold\n",
    "    from sklearn.ensemble import RandomForestClassifier\n",
    "    models = []\n",
    "    models.append(('LR', LogisticRegression(solver='liblinear')))\n",
    "    models.append(('LDA', LinearDiscriminantAnalysis()))\n",
    "    models.append(('KNN', KNeighborsClassifier()))\n",
    "    models.append(('CART', DecisionTreeClassifier()))\n",
    "    models.append(('NB', GaussianNB()))\n",
    "    models.append(('SVM', SVC()))\n",
    "    models.append(('XGB', XGBClassifier()))\n",
    "   \n",
    "    models.append(('RF', RandomForestClassifier()))\n",
    "    modelList = ['LR','LDA','KNN','CART','NB','SVM','RF','XGB']\n",
    "    results = []\n",
    "    names = []\n",
    "    scoring = 'accuracy'\n",
    "\n",
    "    # Store results in a pandas dataframe\n",
    "    numIterations = 10\n",
    "    allResults = pd.DataFrame(index=range(0,numIterations), columns=modelList)\n",
    "    #skf = StratifiedKFold(n_splits=numIterations, random_state=42, shuffle=True)\n",
    "    rkf = RepeatedStratifiedKFold(n_splits=5, n_repeats = 2, random_state=42)\n",
    "    for name, model in models:\n",
    "    \n",
    "        for n in range(0,numIterations):\n",
    "        \n",
    "            # Cross validated model generation\n",
    "        \n",
    "            cv_results = cross_val_score(model, data, group1, cv=rkf, scoring=scoring)\n",
    "        \n",
    "            # Mean classification for iteration[n]\n",
    "            allResults[name] = cv_results.tolist()\n",
    "        \n",
    "            # Status message\n",
    "            msg = \"Method %s Iteration [%d]\\r\" % (name, n)\n",
    "            print(msg,end=\"\")\n",
    "            \n",
    "    return allResults"
   ]
  },
  {
   "cell_type": "code",
   "execution_count": 235,
   "metadata": {},
   "outputs": [
    {
     "data": {
      "text/plain": [
       "(2735, 931)"
      ]
     },
     "execution_count": 235,
     "metadata": {},
     "output_type": "execute_result"
    }
   ],
   "source": [
    "### Importing the iKnife data\n",
    "data = pd.read_csv(\"/Users/teeraponsahwangarrom/Desktop/NewFullGlobalData_iknifeTCDvsN.csv\")\n",
    "keep = data['Tissue_type'] != \"Other\"\n",
    "data = data[keep]\n",
    "dataVars = data.iloc[:,42:]\n",
    "dataVars = dataVars.drop(['Tissue_type'], axis=1)\n",
    "mz_tmp = dataVars.columns.values\n",
    "mz = mz_tmp.astype(np.float)\n",
    "dataVars.shape"
   ]
  },
  {
   "cell_type": "code",
   "execution_count": 236,
   "metadata": {},
   "outputs": [
    {
     "data": {
      "text/plain": [
       "(1755, 931)"
      ]
     },
     "execution_count": 236,
     "metadata": {},
     "output_type": "execute_result"
    }
   ],
   "source": [
    "dataVars.drop_duplicates(inplace=True)\n",
    "dataVars.shape"
   ]
  },
  {
   "cell_type": "code",
   "execution_count": 237,
   "metadata": {
    "scrolled": true
   },
   "outputs": [],
   "source": [
    "idx = dataVars.index"
   ]
  },
  {
   "cell_type": "code",
   "execution_count": 238,
   "metadata": {},
   "outputs": [],
   "source": [
    "data = data.loc[idx]\n",
    "data.reset_index(inplace=True)\n",
    "dataVars.reset_index(inplace=True)\n",
    "dataVars = dataVars.drop(['index'],axis=1)"
   ]
  },
  {
   "cell_type": "code",
   "execution_count": 239,
   "metadata": {},
   "outputs": [
    {
     "name": "stderr",
     "output_type": "stream",
     "text": [
      "/Users/teeraponsahwangarrom/opt/anaconda3/envs/bioinfo/lib/python3.6/site-packages/numpy/lib/nanfunctions.py:995: RuntimeWarning: All-NaN slice encountered\n",
      "  result = np.apply_along_axis(_nanmedian1d, axis, a, overwrite_input)\n"
     ]
    }
   ],
   "source": [
    "dataVars_norm = pqn_andNormalized(dataVars)"
   ]
  },
  {
   "cell_type": "code",
   "execution_count": 240,
   "metadata": {},
   "outputs": [],
   "source": [
    "pca_scores, pca_variance, pca_loading = pcaAnalysis(dataVars_norm)"
   ]
  },
  {
   "cell_type": "code",
   "execution_count": 241,
   "metadata": {
    "scrolled": false
   },
   "outputs": [
    {
     "data": {
      "image/png": "[encoded data removed]",
      "text/plain": [
       "<Figure size 1080x360 with 3 Axes>"
      ]
     },
     "metadata": {
      "needs_background": "light"
     },
     "output_type": "display_data"
    }
   ],
   "source": [
    "PCAplot(pca_scores, pca_variance, pca_loading, mz, data['Tissue_type'])\n",
    "plt.savefig('/Users/teeraponsahwangarrom/PCAplot_Project2.png', dpi=300)"
   ]
  },
  {
   "cell_type": "code",
   "execution_count": 230,
   "metadata": {
    "scrolled": true
   },
   "outputs": [],
   "source": [
    "dataVars_norm[mf].to_csv('/Users/teeraponsahwangarrom/Desktop/DataVolcanoPlot2.csv')"
   ]
  },
  {
   "cell_type": "code",
   "execution_count": 198,
   "metadata": {
    "scrolled": false
   },
   "outputs": [
    {
     "data": {
      "text/html": [
       "<div>\n",
       "<style scoped>\n",
       "    .dataframe tbody tr th:only-of-type {\n",
       "        vertical-align: middle;\n",
       "    }\n",
       "\n",
       "    .dataframe tbody tr th {\n",
       "        vertical-align: top;\n",
       "    }\n",
       "\n",
       "    .dataframe thead th {\n",
       "        text-align: right;\n",
       "    }\n",
       "</style>\n",
       "<table border=\"1\" class=\"dataframe\">\n",
       "  <thead>\n",
       "    <tr style=\"text-align: right;\">\n",
       "      <th></th>\n",
       "      <th>150.9820</th>\n",
       "      <th>151.0330</th>\n",
       "      <th>151.0400</th>\n",
       "      <th>151.0490</th>\n",
       "      <th>151.0870</th>\n",
       "      <th>151.1380</th>\n",
       "      <th>151.9830</th>\n",
       "      <th>152.0380</th>\n",
       "      <th>152.0440</th>\n",
       "      <th>152.0850</th>\n",
       "      <th>...</th>\n",
       "      <th>979.7350</th>\n",
       "      <th>980.7680</th>\n",
       "      <th>981.7480</th>\n",
       "      <th>986.7620</th>\n",
       "      <th>988.5320</th>\n",
       "      <th>988.7730</th>\n",
       "      <th>990.7870</th>\n",
       "      <th>994.6280</th>\n",
       "      <th>996.6510</th>\n",
       "      <th>997.2500</th>\n",
       "    </tr>\n",
       "  </thead>\n",
       "  <tbody>\n",
       "    <tr>\n",
       "      <th>0</th>\n",
       "      <td>0.001393</td>\n",
       "      <td>0.000361</td>\n",
       "      <td>0.000717</td>\n",
       "      <td>0.002626</td>\n",
       "      <td>0.000619</td>\n",
       "      <td>0.000304</td>\n",
       "      <td>0.000321</td>\n",
       "      <td>0.000940</td>\n",
       "      <td>0.001347</td>\n",
       "      <td>0.001869</td>\n",
       "      <td>...</td>\n",
       "      <td>0.007677</td>\n",
       "      <td>0.004983</td>\n",
       "      <td>0.008274</td>\n",
       "      <td>0.004295</td>\n",
       "      <td>0.001221</td>\n",
       "      <td>0.004071</td>\n",
       "      <td>0.005046</td>\n",
       "      <td>0.002678</td>\n",
       "      <td>0.002953</td>\n",
       "      <td>0.000591</td>\n",
       "    </tr>\n",
       "    <tr>\n",
       "      <th>1</th>\n",
       "      <td>0.000532</td>\n",
       "      <td>0.000795</td>\n",
       "      <td>0.001241</td>\n",
       "      <td>0.001832</td>\n",
       "      <td>0.001964</td>\n",
       "      <td>0.000315</td>\n",
       "      <td>0.000217</td>\n",
       "      <td>0.001648</td>\n",
       "      <td>0.002837</td>\n",
       "      <td>0.001399</td>\n",
       "      <td>...</td>\n",
       "      <td>0.011729</td>\n",
       "      <td>0.018264</td>\n",
       "      <td>0.015558</td>\n",
       "      <td>0.031057</td>\n",
       "      <td>0.004446</td>\n",
       "      <td>0.031057</td>\n",
       "      <td>0.020681</td>\n",
       "      <td>0.005444</td>\n",
       "      <td>0.007625</td>\n",
       "      <td>0.000729</td>\n",
       "    </tr>\n",
       "    <tr>\n",
       "      <th>2</th>\n",
       "      <td>0.002490</td>\n",
       "      <td>0.002621</td>\n",
       "      <td>0.003313</td>\n",
       "      <td>0.004270</td>\n",
       "      <td>0.007019</td>\n",
       "      <td>0.000183</td>\n",
       "      <td>0.002076</td>\n",
       "      <td>0.005070</td>\n",
       "      <td>0.007024</td>\n",
       "      <td>0.002433</td>\n",
       "      <td>...</td>\n",
       "      <td>0.002980</td>\n",
       "      <td>0.002711</td>\n",
       "      <td>0.002564</td>\n",
       "      <td>0.002285</td>\n",
       "      <td>0.000979</td>\n",
       "      <td>0.002297</td>\n",
       "      <td>0.002407</td>\n",
       "      <td>0.001759</td>\n",
       "      <td>0.002447</td>\n",
       "      <td>0.000313</td>\n",
       "    </tr>\n",
       "    <tr>\n",
       "      <th>3</th>\n",
       "      <td>0.000520</td>\n",
       "      <td>0.000844</td>\n",
       "      <td>0.001809</td>\n",
       "      <td>0.002314</td>\n",
       "      <td>0.002163</td>\n",
       "      <td>0.000076</td>\n",
       "      <td>0.000333</td>\n",
       "      <td>0.001072</td>\n",
       "      <td>0.001465</td>\n",
       "      <td>0.001318</td>\n",
       "      <td>...</td>\n",
       "      <td>0.001722</td>\n",
       "      <td>0.002070</td>\n",
       "      <td>0.001912</td>\n",
       "      <td>0.002959</td>\n",
       "      <td>0.001513</td>\n",
       "      <td>0.002787</td>\n",
       "      <td>0.002587</td>\n",
       "      <td>0.001432</td>\n",
       "      <td>0.001003</td>\n",
       "      <td>0.000563</td>\n",
       "    </tr>\n",
       "    <tr>\n",
       "      <th>4</th>\n",
       "      <td>0.002027</td>\n",
       "      <td>0.001801</td>\n",
       "      <td>0.002627</td>\n",
       "      <td>0.004111</td>\n",
       "      <td>0.005019</td>\n",
       "      <td>0.000267</td>\n",
       "      <td>0.001739</td>\n",
       "      <td>0.002257</td>\n",
       "      <td>0.003409</td>\n",
       "      <td>0.002795</td>\n",
       "      <td>...</td>\n",
       "      <td>0.002617</td>\n",
       "      <td>0.003486</td>\n",
       "      <td>0.002705</td>\n",
       "      <td>0.004809</td>\n",
       "      <td>0.002657</td>\n",
       "      <td>0.004181</td>\n",
       "      <td>0.003634</td>\n",
       "      <td>0.002393</td>\n",
       "      <td>0.002619</td>\n",
       "      <td>0.001018</td>\n",
       "    </tr>\n",
       "    <tr>\n",
       "      <th>...</th>\n",
       "      <td>...</td>\n",
       "      <td>...</td>\n",
       "      <td>...</td>\n",
       "      <td>...</td>\n",
       "      <td>...</td>\n",
       "      <td>...</td>\n",
       "      <td>...</td>\n",
       "      <td>...</td>\n",
       "      <td>...</td>\n",
       "      <td>...</td>\n",
       "      <td>...</td>\n",
       "      <td>...</td>\n",
       "      <td>...</td>\n",
       "      <td>...</td>\n",
       "      <td>...</td>\n",
       "      <td>...</td>\n",
       "      <td>...</td>\n",
       "      <td>...</td>\n",
       "      <td>...</td>\n",
       "      <td>...</td>\n",
       "      <td>...</td>\n",
       "    </tr>\n",
       "    <tr>\n",
       "      <th>1750</th>\n",
       "      <td>0.000000</td>\n",
       "      <td>0.000000</td>\n",
       "      <td>0.000000</td>\n",
       "      <td>0.000000</td>\n",
       "      <td>0.000000</td>\n",
       "      <td>0.000000</td>\n",
       "      <td>0.000000</td>\n",
       "      <td>0.000000</td>\n",
       "      <td>0.000000</td>\n",
       "      <td>0.000000</td>\n",
       "      <td>...</td>\n",
       "      <td>0.000000</td>\n",
       "      <td>0.000000</td>\n",
       "      <td>0.000000</td>\n",
       "      <td>0.000000</td>\n",
       "      <td>0.000000</td>\n",
       "      <td>0.000000</td>\n",
       "      <td>0.000000</td>\n",
       "      <td>0.000000</td>\n",
       "      <td>0.000000</td>\n",
       "      <td>0.000000</td>\n",
       "    </tr>\n",
       "    <tr>\n",
       "      <th>1751</th>\n",
       "      <td>0.000000</td>\n",
       "      <td>0.000000</td>\n",
       "      <td>0.000000</td>\n",
       "      <td>0.000000</td>\n",
       "      <td>0.000000</td>\n",
       "      <td>0.000000</td>\n",
       "      <td>0.000000</td>\n",
       "      <td>0.000000</td>\n",
       "      <td>0.000000</td>\n",
       "      <td>0.000000</td>\n",
       "      <td>...</td>\n",
       "      <td>0.000000</td>\n",
       "      <td>0.000000</td>\n",
       "      <td>0.000000</td>\n",
       "      <td>0.000000</td>\n",
       "      <td>0.000000</td>\n",
       "      <td>0.000000</td>\n",
       "      <td>0.000000</td>\n",
       "      <td>0.010352</td>\n",
       "      <td>0.000000</td>\n",
       "      <td>0.000000</td>\n",
       "    </tr>\n",
       "    <tr>\n",
       "      <th>1752</th>\n",
       "      <td>0.000000</td>\n",
       "      <td>0.000000</td>\n",
       "      <td>0.000000</td>\n",
       "      <td>0.000000</td>\n",
       "      <td>0.000000</td>\n",
       "      <td>0.000000</td>\n",
       "      <td>0.000000</td>\n",
       "      <td>0.000000</td>\n",
       "      <td>0.000000</td>\n",
       "      <td>0.000000</td>\n",
       "      <td>...</td>\n",
       "      <td>0.000000</td>\n",
       "      <td>0.000000</td>\n",
       "      <td>0.049843</td>\n",
       "      <td>0.000000</td>\n",
       "      <td>0.000000</td>\n",
       "      <td>0.000000</td>\n",
       "      <td>0.000000</td>\n",
       "      <td>0.000000</td>\n",
       "      <td>0.000000</td>\n",
       "      <td>0.000000</td>\n",
       "    </tr>\n",
       "    <tr>\n",
       "      <th>1753</th>\n",
       "      <td>0.000000</td>\n",
       "      <td>0.000000</td>\n",
       "      <td>0.000000</td>\n",
       "      <td>0.000000</td>\n",
       "      <td>0.000000</td>\n",
       "      <td>0.000000</td>\n",
       "      <td>0.000000</td>\n",
       "      <td>0.000000</td>\n",
       "      <td>0.000000</td>\n",
       "      <td>0.000000</td>\n",
       "      <td>...</td>\n",
       "      <td>0.000000</td>\n",
       "      <td>0.000000</td>\n",
       "      <td>0.000000</td>\n",
       "      <td>0.000000</td>\n",
       "      <td>0.082836</td>\n",
       "      <td>0.000000</td>\n",
       "      <td>0.000000</td>\n",
       "      <td>0.000000</td>\n",
       "      <td>0.000000</td>\n",
       "      <td>0.000000</td>\n",
       "    </tr>\n",
       "    <tr>\n",
       "      <th>1754</th>\n",
       "      <td>0.000000</td>\n",
       "      <td>0.000000</td>\n",
       "      <td>0.000000</td>\n",
       "      <td>0.000000</td>\n",
       "      <td>0.000000</td>\n",
       "      <td>0.000000</td>\n",
       "      <td>0.000000</td>\n",
       "      <td>0.000000</td>\n",
       "      <td>0.000000</td>\n",
       "      <td>0.000000</td>\n",
       "      <td>...</td>\n",
       "      <td>0.000000</td>\n",
       "      <td>0.000000</td>\n",
       "      <td>0.000000</td>\n",
       "      <td>0.000000</td>\n",
       "      <td>0.000000</td>\n",
       "      <td>0.000000</td>\n",
       "      <td>0.000000</td>\n",
       "      <td>0.000000</td>\n",
       "      <td>0.000000</td>\n",
       "      <td>0.000000</td>\n",
       "    </tr>\n",
       "  </tbody>\n",
       "</table>\n",
       "<p>1755 rows × 931 columns</p>\n",
       "</div>"
      ],
      "text/plain": [
       "      150.9820  151.0330  151.0400  151.0490  151.0870  151.1380  151.9830  \\\n",
       "0     0.001393  0.000361  0.000717  0.002626  0.000619  0.000304  0.000321   \n",
       "1     0.000532  0.000795  0.001241  0.001832  0.001964  0.000315  0.000217   \n",
       "2     0.002490  0.002621  0.003313  0.004270  0.007019  0.000183  0.002076   \n",
       "3     0.000520  0.000844  0.001809  0.002314  0.002163  0.000076  0.000333   \n",
       "4     0.002027  0.001801  0.002627  0.004111  0.005019  0.000267  0.001739   \n",
       "...        ...       ...       ...       ...       ...       ...       ...   \n",
       "1750  0.000000  0.000000  0.000000  0.000000  0.000000  0.000000  0.000000   \n",
       "1751  0.000000  0.000000  0.000000  0.000000  0.000000  0.000000  0.000000   \n",
       "1752  0.000000  0.000000  0.000000  0.000000  0.000000  0.000000  0.000000   \n",
       "1753  0.000000  0.000000  0.000000  0.000000  0.000000  0.000000  0.000000   \n",
       "1754  0.000000  0.000000  0.000000  0.000000  0.000000  0.000000  0.000000   \n",
       "\n",
       "      152.0380  152.0440  152.0850  ...  979.7350  980.7680  981.7480  \\\n",
       "0     0.000940  0.001347  0.001869  ...  0.007677  0.004983  0.008274   \n",
       "1     0.001648  0.002837  0.001399  ...  0.011729  0.018264  0.015558   \n",
       "2     0.005070  0.007024  0.002433  ...  0.002980  0.002711  0.002564   \n",
       "3     0.001072  0.001465  0.001318  ...  0.001722  0.002070  0.001912   \n",
       "4     0.002257  0.003409  0.002795  ...  0.002617  0.003486  0.002705   \n",
       "...        ...       ...       ...  ...       ...       ...       ...   \n",
       "1750  0.000000  0.000000  0.000000  ...  0.000000  0.000000  0.000000   \n",
       "1751  0.000000  0.000000  0.000000  ...  0.000000  0.000000  0.000000   \n",
       "1752  0.000000  0.000000  0.000000  ...  0.000000  0.000000  0.049843   \n",
       "1753  0.000000  0.000000  0.000000  ...  0.000000  0.000000  0.000000   \n",
       "1754  0.000000  0.000000  0.000000  ...  0.000000  0.000000  0.000000   \n",
       "\n",
       "      986.7620  988.5320  988.7730  990.7870  994.6280  996.6510  997.2500  \n",
       "0     0.004295  0.001221  0.004071  0.005046  0.002678  0.002953  0.000591  \n",
       "1     0.031057  0.004446  0.031057  0.020681  0.005444  0.007625  0.000729  \n",
       "2     0.002285  0.000979  0.002297  0.002407  0.001759  0.002447  0.000313  \n",
       "3     0.002959  0.001513  0.002787  0.002587  0.001432  0.001003  0.000563  \n",
       "4     0.004809  0.002657  0.004181  0.003634  0.002393  0.002619  0.001018  \n",
       "...        ...       ...       ...       ...       ...       ...       ...  \n",
       "1750  0.000000  0.000000  0.000000  0.000000  0.000000  0.000000  0.000000  \n",
       "1751  0.000000  0.000000  0.000000  0.000000  0.010352  0.000000  0.000000  \n",
       "1752  0.000000  0.000000  0.000000  0.000000  0.000000  0.000000  0.000000  \n",
       "1753  0.000000  0.082836  0.000000  0.000000  0.000000  0.000000  0.000000  \n",
       "1754  0.000000  0.000000  0.000000  0.000000  0.000000  0.000000  0.000000  \n",
       "\n",
       "[1755 rows x 931 columns]"
      ]
     },
     "execution_count": 198,
     "metadata": {},
     "output_type": "execute_result"
    }
   ],
   "source": [
    "dataVars_norm"
   ]
  },
  {
   "cell_type": "code",
   "execution_count": 394,
   "metadata": {
    "scrolled": true
   },
   "outputs": [
    {
     "data": {
      "text/plain": [
       "<matplotlib.axes._subplots.AxesSubplot at 0x7f817b010e10>"
      ]
     },
     "execution_count": 394,
     "metadata": {},
     "output_type": "execute_result"
    },
    {
     "data": {
      "image/png": "[encoded data removed]",
      "text/plain": [
       "<Figure size 432x288 with 1 Axes>"
      ]
     },
     "metadata": {
      "needs_background": "light"
     },
     "output_type": "display_data"
    }
   ],
   "source": [
    "import seaborn as sns\n",
    "from sklearn.decomposition import PCA\n",
    "pca = PCA(n_components = 5)\n",
    "pca.fit(dataVars_norm).transform(dataVars_norm)\n",
    "pca.explained_variance_ratio_\n",
    "\n",
    "pcaData = pd.DataFrame({'Variance Explained':pca.explained_variance_ratio_, 'Principal Components':['PC1','PC2','PC3','PC4','PC5']})\n",
    "sns.barplot(x='Principal Components', y=\"Variance Explained\", data=pcaData, color=\"c\")\n",
    "#pc_df = pd.DataFrame(data = pc, columns =['PC1','PC2','PC3','PC4','PC5'])"
   ]
  },
  {
   "cell_type": "code",
   "execution_count": 390,
   "metadata": {},
   "outputs": [
    {
     "data": {
      "text/plain": [
       "array([0.27028165, 0.18569495, 0.09274724, 0.05411577, 0.03923206])"
      ]
     },
     "execution_count": 390,
     "metadata": {},
     "output_type": "execute_result"
    }
   ],
   "source": [
    "pca.explained_variance_ratio_"
   ]
  },
  {
   "cell_type": "code",
   "execution_count": 145,
   "metadata": {
    "scrolled": true
   },
   "outputs": [
    {
     "data": {
      "text/plain": [
       "893.7370    0.206629\n",
       "891.7220    0.194327\n",
       "919.7520    0.182241\n",
       "894.7400    0.181899\n",
       "895.7430    0.173383\n",
       "              ...   \n",
       "721.4820   -0.041981\n",
       "227.2010    0.041795\n",
       "728.5590   -0.041731\n",
       "749.5170   -0.040968\n",
       "885.5550   -0.040909\n",
       "Length: 100, dtype: float64"
      ]
     },
     "execution_count": 145,
     "metadata": {},
     "output_type": "execute_result"
    }
   ],
   "source": [
    "from sklearn.decomposition import PCA\n",
    "pca = PCA(n_components = 5)\n",
    "pca.fit(dataVars_norm).transform(dataVars_norm)\n",
    "loading_scores = pd.Series(pca.components_[0], index=mz_tmp)\n",
    "\n",
    "sorted_loading_scores = loading_scores.abs().sort_values(ascending=False)\n",
    "top_100_mz = sorted_loading_scores[0:100].index.values\n",
    "#print(loading_scores[top_100_mz])\n",
    "#top_100_mz\n",
    "loading_scores[top_100_mz]"
   ]
  },
  {
   "cell_type": "code",
   "execution_count": 147,
   "metadata": {},
   "outputs": [
    {
     "data": {
      "text/plain": [
       "array(['893.7370', '891.7220', '919.7520', '894.7400', '895.7430',\n",
       "       '892.7260', '920.7570', '921.7620', '917.7370', '867.7180',\n",
       "       '865.7060', '918.7410', '889.7050', '896.7460', '922.7660',\n",
       "       '866.7100', '868.7230', '915.7210', '212.0750', '890.7070',\n",
       "       '869.7250', '839.6890', '923.7720', '863.6900', '863.6610',\n",
       "       '916.7220', '837.6740', '840.6930', '841.6970', '864.6920',\n",
       "       '699.4980', '943.7460', '941.7310', '744.5550', '864.6580',\n",
       "       '157.1220', '947.7830', '945.7640', '838.6790', '700.5040',\n",
       "       '717.5100', '213.0780', '303.2340', '745.5570', '417.2410',\n",
       "       '642.4880', '673.4820', '419.2570', '742.5400', '171.1380',\n",
       "       '687.5450', '718.5370', '701.5140', '939.7180', '716.5260',\n",
       "       '697.4820', '391.2250', '687.4990', '725.5130', '770.5710',\n",
       "       '723.4990', '743.5370', '217.1110', '768.5530', '766.5400',\n",
       "       '811.6600', '403.2620', '744.6110', '698.4860', '715.4980',\n",
       "       '715.5230', '305.2560', '674.4850', '888.6830', '746.5640',\n",
       "       '747.5120', '480.3100', '688.5010', '688.5500', '726.5210',\n",
       "       '772.5860', '699.5500', '750.5440', '861.6450', '726.5440',\n",
       "       '629.4910', '671.4660', '375.2300', '205.1590', '748.5270',\n",
       "       '199.1700', '727.5310', '724.5020', '304.2370', '420.2600',\n",
       "       '721.4820', '227.2010', '728.5590', '749.5170', '885.5550'],\n",
       "      dtype=object)"
      ]
     },
     "execution_count": 147,
     "metadata": {},
     "output_type": "execute_result"
    }
   ],
   "source": [
    "top_100_mz"
   ]
  },
  {
   "cell_type": "code",
   "execution_count": 146,
   "metadata": {},
   "outputs": [],
   "source": [
    "loading_scores[top_100_mz].to_csv('/Users/teeraponsahwangarrom/Desktop/Top100_loadingPCA.csv')"
   ]
  },
  {
   "cell_type": "code",
   "execution_count": 169,
   "metadata": {
    "scrolled": true
   },
   "outputs": [
    {
     "name": "stdout",
     "output_type": "stream",
     "text": [
      "Method RF Iteration [9]]]\r"
     ]
    }
   ],
   "source": [
    "ML_results_rskf = ML_Evaluation(dataVars_norm, data['Tissue_type'])"
   ]
  },
  {
   "cell_type": "code",
   "execution_count": 170,
   "metadata": {
    "scrolled": true
   },
   "outputs": [
    {
     "data": {
      "text/html": [
       "<div>\n",
       "<style scoped>\n",
       "    .dataframe tbody tr th:only-of-type {\n",
       "        vertical-align: middle;\n",
       "    }\n",
       "\n",
       "    .dataframe tbody tr th {\n",
       "        vertical-align: top;\n",
       "    }\n",
       "\n",
       "    .dataframe thead th {\n",
       "        text-align: right;\n",
       "    }\n",
       "</style>\n",
       "<table border=\"1\" class=\"dataframe\">\n",
       "  <thead>\n",
       "    <tr style=\"text-align: right;\">\n",
       "      <th></th>\n",
       "      <th>LR</th>\n",
       "      <th>LDA</th>\n",
       "      <th>KNN</th>\n",
       "      <th>CART</th>\n",
       "      <th>NB</th>\n",
       "      <th>SVM</th>\n",
       "      <th>RF</th>\n",
       "      <th>XGB</th>\n",
       "    </tr>\n",
       "  </thead>\n",
       "  <tbody>\n",
       "    <tr>\n",
       "      <th>0</th>\n",
       "      <td>0.829060</td>\n",
       "      <td>0.766382</td>\n",
       "      <td>0.803419</td>\n",
       "      <td>0.735043</td>\n",
       "      <td>0.663818</td>\n",
       "      <td>0.840456</td>\n",
       "      <td>0.826211</td>\n",
       "      <td>0.851852</td>\n",
       "    </tr>\n",
       "    <tr>\n",
       "      <th>1</th>\n",
       "      <td>0.874644</td>\n",
       "      <td>0.794872</td>\n",
       "      <td>0.794872</td>\n",
       "      <td>0.729345</td>\n",
       "      <td>0.615385</td>\n",
       "      <td>0.877493</td>\n",
       "      <td>0.820513</td>\n",
       "      <td>0.863248</td>\n",
       "    </tr>\n",
       "    <tr>\n",
       "      <th>2</th>\n",
       "      <td>0.886040</td>\n",
       "      <td>0.797721</td>\n",
       "      <td>0.806268</td>\n",
       "      <td>0.754986</td>\n",
       "      <td>0.692308</td>\n",
       "      <td>0.880342</td>\n",
       "      <td>0.846154</td>\n",
       "      <td>0.871795</td>\n",
       "    </tr>\n",
       "    <tr>\n",
       "      <th>3</th>\n",
       "      <td>0.866097</td>\n",
       "      <td>0.800570</td>\n",
       "      <td>0.849003</td>\n",
       "      <td>0.754986</td>\n",
       "      <td>0.649573</td>\n",
       "      <td>0.874644</td>\n",
       "      <td>0.846154</td>\n",
       "      <td>0.868946</td>\n",
       "    </tr>\n",
       "    <tr>\n",
       "      <th>4</th>\n",
       "      <td>0.863248</td>\n",
       "      <td>0.780627</td>\n",
       "      <td>0.780627</td>\n",
       "      <td>0.712251</td>\n",
       "      <td>0.692308</td>\n",
       "      <td>0.849003</td>\n",
       "      <td>0.811966</td>\n",
       "      <td>0.849003</td>\n",
       "    </tr>\n",
       "    <tr>\n",
       "      <th>5</th>\n",
       "      <td>0.897436</td>\n",
       "      <td>0.774929</td>\n",
       "      <td>0.834758</td>\n",
       "      <td>0.732194</td>\n",
       "      <td>0.686610</td>\n",
       "      <td>0.880342</td>\n",
       "      <td>0.866097</td>\n",
       "      <td>0.866097</td>\n",
       "    </tr>\n",
       "    <tr>\n",
       "      <th>6</th>\n",
       "      <td>0.857550</td>\n",
       "      <td>0.772080</td>\n",
       "      <td>0.800570</td>\n",
       "      <td>0.729345</td>\n",
       "      <td>0.592593</td>\n",
       "      <td>0.843305</td>\n",
       "      <td>0.797721</td>\n",
       "      <td>0.846154</td>\n",
       "    </tr>\n",
       "    <tr>\n",
       "      <th>7</th>\n",
       "      <td>0.897436</td>\n",
       "      <td>0.800570</td>\n",
       "      <td>0.826211</td>\n",
       "      <td>0.794872</td>\n",
       "      <td>0.672365</td>\n",
       "      <td>0.868946</td>\n",
       "      <td>0.834758</td>\n",
       "      <td>0.840456</td>\n",
       "    </tr>\n",
       "    <tr>\n",
       "      <th>8</th>\n",
       "      <td>0.837607</td>\n",
       "      <td>0.774929</td>\n",
       "      <td>0.780627</td>\n",
       "      <td>0.709402</td>\n",
       "      <td>0.646724</td>\n",
       "      <td>0.837607</td>\n",
       "      <td>0.800570</td>\n",
       "      <td>0.814815</td>\n",
       "    </tr>\n",
       "    <tr>\n",
       "      <th>9</th>\n",
       "      <td>0.846154</td>\n",
       "      <td>0.780627</td>\n",
       "      <td>0.820513</td>\n",
       "      <td>0.754986</td>\n",
       "      <td>0.658120</td>\n",
       "      <td>0.857550</td>\n",
       "      <td>0.837607</td>\n",
       "      <td>0.868946</td>\n",
       "    </tr>\n",
       "  </tbody>\n",
       "</table>\n",
       "</div>"
      ],
      "text/plain": [
       "         LR       LDA       KNN      CART        NB       SVM        RF  \\\n",
       "0  0.829060  0.766382  0.803419  0.735043  0.663818  0.840456  0.826211   \n",
       "1  0.874644  0.794872  0.794872  0.729345  0.615385  0.877493  0.820513   \n",
       "2  0.886040  0.797721  0.806268  0.754986  0.692308  0.880342  0.846154   \n",
       "3  0.866097  0.800570  0.849003  0.754986  0.649573  0.874644  0.846154   \n",
       "4  0.863248  0.780627  0.780627  0.712251  0.692308  0.849003  0.811966   \n",
       "5  0.897436  0.774929  0.834758  0.732194  0.686610  0.880342  0.866097   \n",
       "6  0.857550  0.772080  0.800570  0.729345  0.592593  0.843305  0.797721   \n",
       "7  0.897436  0.800570  0.826211  0.794872  0.672365  0.868946  0.834758   \n",
       "8  0.837607  0.774929  0.780627  0.709402  0.646724  0.837607  0.800570   \n",
       "9  0.846154  0.780627  0.820513  0.754986  0.658120  0.857550  0.837607   \n",
       "\n",
       "        XGB  \n",
       "0  0.851852  \n",
       "1  0.863248  \n",
       "2  0.871795  \n",
       "3  0.868946  \n",
       "4  0.849003  \n",
       "5  0.866097  \n",
       "6  0.846154  \n",
       "7  0.840456  \n",
       "8  0.814815  \n",
       "9  0.868946  "
      ]
     },
     "execution_count": 170,
     "metadata": {},
     "output_type": "execute_result"
    }
   ],
   "source": [
    "ML_results_rskf"
   ]
  },
  {
   "cell_type": "code",
   "execution_count": 173,
   "metadata": {
    "scrolled": false
   },
   "outputs": [
    {
     "data": {
      "image/png": "[encoded data removed]",
      "text/plain": [
       "<Figure size 1080x360 with 1 Axes>"
      ]
     },
     "metadata": {
      "needs_background": "light"
     },
     "output_type": "display_data"
    }
   ],
   "source": [
    "# Draw axes\n",
    "fig,ax = plt.subplots(ncols=1,constrained_layout=True,figsize=(15,5))\n",
    "modelList = ['LR','LDA','KNN','CART','NB','SVM','RF','XGB']\n",
    "\n",
    "# Making Boxplots\n",
    "ax.boxplot(ML_results_rskf.T,sym='',labels=modelList)\n",
    "\n",
    "\n",
    "# Adding the scatter points with jitter\n",
    "jitter = (np.random.rand(10,1) - 0.5) / 4\n",
    "for n in range(0,8):\n",
    "    ax.scatter(jitter+n+1,ML_results_rskf[modelList[n]])\n",
    "    ax.scatter(n+1,ML_results_rskf[modelList[n]].mean(), color ='black')\n",
    "    \n",
    "    \n",
    "# Titles, label of x-axis and y-axis\n",
    "ax.set_title('Comparison of machine learning models for classification of breast, colorectal, and ovarian cancers')\n",
    "ax.set_xlabel('Machine learning algorithms')\n",
    "ax.set_ylabel('Classification performance')\n",
    "plt.savefig('/Users/teeraponsahwangarrom/Boxplot_EvaluationML_Project2.png', dpi=300)"
   ]
  },
  {
   "cell_type": "code",
   "execution_count": 500,
   "metadata": {
    "scrolled": false
   },
   "outputs": [
    {
     "name": "stdout",
     "output_type": "stream",
     "text": [
      "Round:  0 LR\n",
      "Accuracy:  87.46438746438746\n",
      "Sensitivity:  85.0\n",
      "Specificity:  89.0995260663507\n",
      "Round:  1 LR\n",
      "Accuracy:  90.02849002849003\n",
      "Sensitivity:  85.0\n",
      "Specificity:  93.36492890995261\n",
      "Round:  2 LR\n",
      "Accuracy:  90.5982905982906\n",
      "Sensitivity:  88.48920863309353\n",
      "Specificity:  91.98113207547169\n",
      "Round:  3 LR\n",
      "Accuracy:  93.16239316239316\n",
      "Sensitivity:  89.92805755395683\n",
      "Specificity:  95.28301886792453\n",
      "Round:  4 LR\n",
      "Accuracy:  88.03418803418803\n",
      "Sensitivity:  82.01438848920863\n",
      "Specificity:  91.98113207547169\n",
      "Round:  5 LR\n",
      "Accuracy:  91.73789173789174\n",
      "Sensitivity:  90.0\n",
      "Specificity:  92.89099526066352\n",
      "Round:  6 LR\n",
      "Accuracy:  90.02849002849003\n",
      "Sensitivity:  85.0\n",
      "Specificity:  93.36492890995261\n",
      "Round:  7 LR\n",
      "Accuracy:  89.17378917378917\n",
      "Sensitivity:  82.73381294964028\n",
      "Specificity:  93.39622641509435\n",
      "Round:  8 LR\n",
      "Accuracy:  88.03418803418803\n",
      "Sensitivity:  89.20863309352518\n",
      "Specificity:  87.26415094339622\n",
      "Round:  9 LR\n",
      "Accuracy:  90.02849002849003\n",
      "Sensitivity:  83.45323741007195\n",
      "Specificity:  94.33962264150944\n"
     ]
    }
   ],
   "source": [
    "#### Calculation of accuracy, sensitivity and specificity in order to construct a learning curve \n",
    "import time\n",
    "from collections import Counter\n",
    "from sklearn.metrics import confusion_matrix\n",
    "from sklearn.ensemble import RandomForestClassifier\n",
    "from sklearn.model_selection import ShuffleSplit\n",
    "models = []\n",
    "models.append(('LR', LogisticRegression(solver='liblinear')))\n",
    "#models.append(('LDA', LinearDiscriminantAnalysis()))\n",
    "#models.append(('KNN', KNeighborsClassifier()))\n",
    "#models.append(('CART', DecisionTreeClassifier()))\n",
    "#models.append(('NB', GaussianNB()))\n",
    "#models.append(('SVM', SVC()))\n",
    "#models.append(('XGB', XGBClassifier(max_depth =4, n_estimators=150)))\n",
    "\n",
    "#models.append(('RF', RandomForestClassifier(max_features=6, n_estimators=1000)))\n",
    "modelList = ['LR']\n",
    "results = []\n",
    "names = []\n",
    "scoring = 'accuracy'\n",
    "\n",
    "# Store results in a pandas dataframe\n",
    "numIterations = 10\n",
    "#idx = 70\n",
    "allAccuracy = pd.DataFrame(index=range(0,numIterations), columns=modelList)\n",
    "allSensitivity = pd.DataFrame(index=range(0,numIterations), columns=modelList)\n",
    "allSpecificity = pd.DataFrame(index=range(0,numIterations), columns=modelList)\n",
    "allTime = pd.DataFrame(index=range(0,numIterations), columns=modelList)\n",
    "rkf = RepeatedStratifiedKFold(n_splits=5, n_repeats = 2, random_state=42)\n",
    "\n",
    "for n,(train_idx, test_idx) in enumerate(rkf.split(dataVars_norm, data['Tissue_type']),0):\n",
    "    \n",
    "    for name, model in models:\n",
    "        \n",
    "        \n",
    "    \n",
    "        X_train = dataVars_norm.iloc[train_idx]\n",
    "        y_train = data['Tissue_type'].iloc[train_idx]\n",
    "        X_test = dataVars_norm.iloc[test_idx]\n",
    "        y_test = data['Tissue_type'].iloc[test_idx]\n",
    "        \n",
    "        #feature_RFE = fc_rkf.loc[:,['molecular_features']]\n",
    "        \n",
    "        #mf = feature_RFE[:90].values\n",
    "        #mf = mf.flatten()\n",
    "        X_train = X_train[mf]\n",
    "        X_test = X_test[mf]\n",
    "        \n",
    "        # Cross validated model generation\n",
    "        start_time = time.time()\n",
    "        model.fit(X_train[:1404], y_train[:1404])\n",
    "        end_time = time.time()\n",
    "        y_pred = model.predict(X_test)\n",
    "        \n",
    "        \n",
    "        cm = confusion_matrix(y_test, y_pred)\n",
    "        total = sum(sum(cm))\n",
    "        print('Round: ', n, name)\n",
    "        Accuracy = (cm[0,0]+cm[1,1])/total\n",
    "        print('Accuracy: ', Accuracy*100)\n",
    "        \n",
    "        Sensitivity = cm[0,0]/(cm[0,0]+cm[0,1])\n",
    "        print('Sensitivity: ', Sensitivity*100)\n",
    "        Specificity = cm[1,1]/(cm[1,0]+cm[1,1])\n",
    "        print('Specificity: ', Specificity*100)\n",
    "        \n",
    "        \n",
    "        allAccuracy.iloc[n][name] = Accuracy*100\n",
    "        allSensitivity.iloc[n][name] = Sensitivity*100\n",
    "        allSpecificity.iloc[n][name] = Specificity*100\n",
    "        allTime.iloc[n][name] = end_time - start_time\n",
    "        "
   ]
  },
  {
   "cell_type": "code",
   "execution_count": 501,
   "metadata": {},
   "outputs": [
    {
     "data": {
      "text/plain": [
       "LR    89.82906\n",
       "dtype: float64"
      ]
     },
     "execution_count": 501,
     "metadata": {},
     "output_type": "execute_result"
    }
   ],
   "source": [
    "allAccuracy.mean()"
   ]
  },
  {
   "cell_type": "code",
   "execution_count": 502,
   "metadata": {},
   "outputs": [
    {
     "data": {
      "text/plain": [
       "LR    1.761627\n",
       "dtype: float64"
      ]
     },
     "execution_count": 502,
     "metadata": {},
     "output_type": "execute_result"
    }
   ],
   "source": [
    "allAccuracy.std()"
   ]
  },
  {
   "cell_type": "code",
   "execution_count": 503,
   "metadata": {},
   "outputs": [
    {
     "data": {
      "text/plain": [
       "LR    86.082734\n",
       "dtype: float64"
      ]
     },
     "execution_count": 503,
     "metadata": {},
     "output_type": "execute_result"
    }
   ],
   "source": [
    "allSensitivity.mean()"
   ]
  },
  {
   "cell_type": "code",
   "execution_count": 504,
   "metadata": {
    "scrolled": false
   },
   "outputs": [
    {
     "data": {
      "text/plain": [
       "LR    92.296566\n",
       "dtype: float64"
      ]
     },
     "execution_count": 504,
     "metadata": {},
     "output_type": "execute_result"
    }
   ],
   "source": [
    "allSpecificity.mean()"
   ]
  },
  {
   "cell_type": "code",
   "execution_count": 505,
   "metadata": {},
   "outputs": [
    {
     "data": {
      "text/plain": [
       "LR    0.050134\n",
       "dtype: float64"
      ]
     },
     "execution_count": 505,
     "metadata": {},
     "output_type": "execute_result"
    }
   ],
   "source": [
    "allTime.mean()"
   ]
  },
  {
   "cell_type": "code",
   "execution_count": 307,
   "metadata": {},
   "outputs": [],
   "source": [
    "## Function of creating learning curves (Not be used for the project 2)\n",
    "def plot_learning_curve(estimator, title, X, y, axes=None, ylim=None, cv=None,\n",
    "                        n_jobs=None, train_sizes=np.linspace(.1, 1.0, 7)):\n",
    "    from sklearn.model_selection import learning_curve\n",
    "    \n",
    "    if axes is None:\n",
    "        _, axes = plt.subplots(1, 3, figsize=(20, 5))\n",
    "\n",
    "    axes[0].set_title(title)\n",
    "    if ylim is not None:\n",
    "        axes[0].set_ylim(*ylim)\n",
    "    axes[0].set_xlabel(\"Training examples\")\n",
    "    axes[0].set_ylabel(\"Score\")\n",
    "\n",
    "    train_sizes, train_scores, test_scores, fit_times, _ = learning_curve(estimator, X, y, cv=cv, n_jobs=n_jobs, train_sizes=train_sizes, return_times=True)\n",
    "    train_scores_mean = np.mean(train_scores, axis=1)\n",
    "    train_scores_std = np.std(train_scores, axis=1)\n",
    "    test_scores_mean = np.mean(test_scores, axis=1)\n",
    "    test_scores_std = np.std(test_scores, axis=1)\n",
    "    fit_times_mean = np.mean(fit_times, axis=1)\n",
    "    fit_times_std = np.std(fit_times, axis=1)\n",
    "\n",
    "    # Plot learning curve\n",
    "    axes[0].grid()\n",
    "    axes[0].fill_between(train_sizes, train_scores_mean - train_scores_std,\n",
    "                         train_scores_mean + train_scores_std, alpha=0.1,\n",
    "                         color=\"r\")\n",
    "    axes[0].fill_between(train_sizes, test_scores_mean - test_scores_std,\n",
    "                         test_scores_mean + test_scores_std, alpha=0.1,\n",
    "                         color=\"g\")\n",
    "    axes[0].plot(train_sizes, train_scores_mean, 'o-', color=\"r\",\n",
    "                 label=\"Training score\")\n",
    "    axes[0].plot(train_sizes, test_scores_mean, 'o-', color=\"g\",\n",
    "                 label=\"Cross-validation score\")\n",
    "    axes[0].legend(loc=\"best\")\n",
    "\n",
    "    # Plot n_samples vs fit_times\n",
    "    axes[1].grid()\n",
    "    axes[1].plot(train_sizes, fit_times_mean, 'o-')\n",
    "    axes[1].fill_between(train_sizes, fit_times_mean - fit_times_std,\n",
    "                         fit_times_mean + fit_times_std, alpha=0.1)\n",
    "    axes[1].set_xlabel(\"Training examples\")\n",
    "    axes[1].set_ylabel(\"fit_times\")\n",
    "    axes[1].set_title(\"Scalability of the model\")\n",
    "\n",
    "    # Plot fit_time vs score\n",
    "    axes[2].grid()\n",
    "    axes[2].plot(fit_times_mean, test_scores_mean, 'o-')\n",
    "    axes[2].fill_between(fit_times_mean, test_scores_mean - test_scores_std,\n",
    "                         test_scores_mean + test_scores_std, alpha=0.1)\n",
    "    axes[2].set_xlabel(\"fit_times\")\n",
    "    axes[2].set_ylabel(\"Score\")\n",
    "    axes[2].set_title(\"Performance of the model\")\n",
    "\n",
    "    return plt\n"
   ]
  },
  {
   "cell_type": "code",
   "execution_count": 311,
   "metadata": {},
   "outputs": [
    {
     "data": {
      "image/png": "[encoded data removed]",
      "text/plain": [
       "<Figure size 1440x1800 with 9 Axes>"
      ]
     },
     "metadata": {
      "needs_background": "light"
     },
     "output_type": "display_data"
    }
   ],
   "source": [
    "## Top 3 machine learning models from the results of the evaluation \n",
    "fig, axes = plt.subplots(3, 3, figsize=(20, 25))\n",
    "\n",
    "#X, y = load_digits(return_X_y=True)\n",
    "\n",
    "title = \"Learning Curves (LR)\"\n",
    "# Cross validation with 100 iterations to get smoother mean test and train\n",
    "# score curves, each time with 20% data randomly selected as a validation set.\n",
    "cv = RepeatedKFold(n_splits=5, n_repeats=2, random_state=42)\n",
    "\n",
    "estimator = LogisticRegression(solver='liblinear')\n",
    "plot_learning_curve(estimator, title, dataVars_norm, data['Tissue_type'], axes=axes[:, 0], ylim=(0.5, 1.01), cv=cv, n_jobs=4)\n",
    "\n",
    "title = \"Learning Curves (SVM)\"\n",
    "# SVC is more expensive so we do a lower number of CV iterations:\n",
    "cv = RepeatedKFold(n_splits=5, n_repeats=2, random_state=42)\n",
    "estimator = SVC()\n",
    "plot_learning_curve(estimator, title, dataVars_norm, data['Tissue_type'], axes=axes[:, 1], ylim=(0.5, 1.01),cv=cv, n_jobs=4)\n",
    "\n",
    "title = \"Learning Curves (XGBoost)\"\n",
    "estimator = XGBClassifier(max_depth =4, n_estimators=150)\n",
    "plot_learning_curve(estimator, title, dataVars_norm, data['Tissue_type'], axes=axes[:, 2], ylim=(0.5, 1.01),cv=cv, n_jobs=4)\n",
    "\n",
    "plt.show()"
   ]
  },
  {
   "cell_type": "code",
   "execution_count": 258,
   "metadata": {},
   "outputs": [],
   "source": [
    "## Function of constructing cross-validation behaviours\n",
    "def plot_cv_indices(cv, X, y, group, ax, n_splits, lw=10):\n",
    "    from matplotlib.patches import Patch\n",
    "    cmap_data = plt.cm.Paired\n",
    "    cmap_cv = plt.cm.coolwarm\n",
    "    \n",
    "\n",
    "    # Generate the training/testing visualizations for each CV split\n",
    "    for ii, (tr, tt) in enumerate(cv.split(X=X, y=y, groups=group)):\n",
    "        # Fill in indices with the training/test groups\n",
    "        indices = np.array([np.nan] * len(X))\n",
    "        indices[tt] = 1\n",
    "        indices[tr] = 0\n",
    "\n",
    "        # Visualize the results\n",
    "        ax.scatter(range(len(indices)), [ii + .5] * len(indices),\n",
    "                   c=indices, marker='_', lw=lw, cmap=cmap_cv,\n",
    "                   vmin=-.2, vmax=1.2)\n",
    "\n",
    "    # Plot the data classes and groups at the end\n",
    "    ax.scatter(range(len(X)), [ii + 1.5] * len(X),\n",
    "               c=y, marker='_', lw=lw, cmap=cmap_data)\n",
    "\n",
    "    ax.scatter(range(len(X)), [ii + 2.5] * len(X),\n",
    "               c=group, marker='_', lw=lw, cmap=cmap_data)\n",
    "\n",
    "    # Formatting\n",
    "    yticklabels = list(range(n_splits)) + ['class', 'group']\n",
    "    ax.set(yticks=np.arange(n_splits+2) + .5, yticklabels=yticklabels,\n",
    "           xlabel='Sample index', ylabel=\"CV iteration\",\n",
    "           ylim=[n_splits+2.2, -.2], xlim=[0, 1700])\n",
    "    ax.legend([Patch(color=cmap_cv(.8)), Patch(color=cmap_cv(.02))], ['Testing set', 'Training set'], loc=(1.02, .8))\n",
    "    ax.set_title('{}'.format(type(cv).__name__), fontsize=15)\n",
    "    return ax"
   ]
  },
  {
   "cell_type": "code",
   "execution_count": 18,
   "metadata": {},
   "outputs": [
    {
     "data": {
      "text/plain": [
       "0        True\n",
       "1        True\n",
       "2        True\n",
       "3        True\n",
       "4        True\n",
       "        ...  \n",
       "1750    False\n",
       "1751    False\n",
       "1752    False\n",
       "1753    False\n",
       "1754    False\n",
       "Name: Tissue, Length: 1755, dtype: bool"
      ]
     },
     "execution_count": 18,
     "metadata": {},
     "output_type": "execute_result"
    }
   ],
   "source": [
    "data['Tissue'] == 'Breast'"
   ]
  },
  {
   "cell_type": "code",
   "execution_count": 22,
   "metadata": {},
   "outputs": [
    {
     "data": {
      "text/plain": [
       "Counter({'Breast': 1367, 'Colorectal': 304, 'Gynae': 84})"
      ]
     },
     "execution_count": 22,
     "metadata": {},
     "output_type": "execute_result"
    }
   ],
   "source": [
    "from collections import Counter\n",
    "#idx_breast = data['Tissue'] == 'Gynae'\n",
    "Counter(data['Tissue'])"
   ]
  },
  {
   "cell_type": "code",
   "execution_count": 243,
   "metadata": {},
   "outputs": [],
   "source": [
    "### Binarized the label of classes\n",
    "z = data['Tissue']\n",
    "z = label_binarize(z, classes=[\"Breast\",\"Colorectal\", \"Gynae\"])\n",
    "y = data['Tissue_type']\n",
    "y = label_binarize(y, classes=[\"Cancer\",\"Normal\"])"
   ]
  },
  {
   "cell_type": "code",
   "execution_count": 259,
   "metadata": {
    "scrolled": true
   },
   "outputs": [
    {
     "name": "stderr",
     "output_type": "stream",
     "text": [
      "/Users/teeraponsahwangarrom/opt/anaconda3/envs/bioinfo/lib/python3.6/site-packages/sklearn/model_selection/_split.py:297: FutureWarning: Setting a random_state has no effect since shuffle is False. This will raise an error in 0.24. You should leave random_state to its default (None), or set shuffle=True.\n",
      "  FutureWarning\n"
     ]
    },
    {
     "data": {
      "image/png": "[encoded data removed]",
      "text/plain": [
       "<Figure size 432x288 with 1 Axes>"
      ]
     },
     "metadata": {
      "needs_background": "light"
     },
     "output_type": "display_data"
    }
   ],
   "source": [
    "## A figure of K-Fold cross-validation behaviours\n",
    "fig, ax = plt.subplots()\n",
    "cv = KFold(n_splits = 5, random_state=42)\n",
    "plot_cv_indices(cv, dataVars_norm, y, z, ax, 5)\n",
    "\n",
    "plt.savefig('/Users/teeraponsahwangarrom/KFoldPic.png', dpi=300)"
   ]
  },
  {
   "cell_type": "code",
   "execution_count": 418,
   "metadata": {
    "scrolled": true
   },
   "outputs": [
    {
     "name": "stdout",
     "output_type": "stream",
     "text": [
      "Train: Cancer = 557, Normal = 847\n",
      "Test: Cancer = 140, Normal = 211\n",
      "Train: Cancer = 557, Normal = 847\n",
      "Test: Cancer = 140, Normal = 211\n",
      "Train: Cancer = 558, Normal = 846\n",
      "Test: Cancer = 139, Normal = 212\n",
      "Train: Cancer = 558, Normal = 846\n",
      "Test: Cancer = 139, Normal = 212\n",
      "Train: Cancer = 558, Normal = 846\n",
      "Test: Cancer = 139, Normal = 212\n",
      "Train: Cancer = 557, Normal = 847\n",
      "Test: Cancer = 140, Normal = 211\n",
      "Train: Cancer = 557, Normal = 847\n",
      "Test: Cancer = 140, Normal = 211\n",
      "Train: Cancer = 558, Normal = 846\n",
      "Test: Cancer = 139, Normal = 212\n",
      "Train: Cancer = 558, Normal = 846\n",
      "Test: Cancer = 139, Normal = 212\n",
      "Train: Cancer = 558, Normal = 846\n",
      "Test: Cancer = 139, Normal = 212\n"
     ]
    }
   ],
   "source": [
    "## An example of repeated stratified K-Fold splitting data into training (80%) and testing (20%) dataset\n",
    "from sklearn.model_selection import KFold\n",
    "kf = RepeatedStratifiedKFold(n_splits=5, n_repeats=2, random_state=42)\n",
    "for train_idx, test_idx in kf.split(dataVars_norm, data['Tissue_type']):\n",
    "    train_X, test_X = dataVars_norm.iloc[train_idx], dataVars_norm.iloc[test_idx]\n",
    "    train_y, test_y = data['Tissue_type'].iloc[train_idx], data['Tissue_type'].iloc[test_idx]\n",
    "    \n",
    "    train_cancer, train_normal = len(train_y[train_y==\"Cancer\"]), len(train_y[train_y==\"Normal\"])\n",
    "    test_cancer, test_normal = len(test_y[test_y==\"Cancer\"]), len(test_y[test_y==\"Normal\"])\n",
    "    print('Train: Cancer = %d, Normal = %d' % (train_cancer, train_normal))\n",
    "    \n",
    "    print('Test: Cancer = %d, Normal = %d' % (test_cancer, test_normal))\n",
    "    "
   ]
  },
  {
   "cell_type": "code",
   "execution_count": 254,
   "metadata": {},
   "outputs": [
    {
     "name": "stdout",
     "output_type": "stream",
     "text": [
      "Train: Breast = 1191, Colorectal = 304, Gynae = 84\n",
      "Test: Breast = 176, Colorectal = 0, Gynae = 0\n",
      "Train: Breast = 1191, Colorectal = 304, Gynae = 84\n",
      "Test: Breast = 176, Colorectal = 0, Gynae = 0\n",
      "Train: Breast = 1191, Colorectal = 304, Gynae = 84\n",
      "Test: Breast = 176, Colorectal = 0, Gynae = 0\n",
      "Train: Breast = 1191, Colorectal = 304, Gynae = 84\n",
      "Test: Breast = 176, Colorectal = 0, Gynae = 0\n",
      "Train: Breast = 1191, Colorectal = 304, Gynae = 84\n",
      "Test: Breast = 176, Colorectal = 0, Gynae = 0\n",
      "Train: Breast = 1192, Colorectal = 304, Gynae = 84\n",
      "Test: Breast = 175, Colorectal = 0, Gynae = 0\n",
      "Train: Breast = 1192, Colorectal = 304, Gynae = 84\n",
      "Test: Breast = 175, Colorectal = 0, Gynae = 0\n",
      "Train: Breast = 1230, Colorectal = 266, Gynae = 84\n",
      "Test: Breast = 137, Colorectal = 38, Gynae = 0\n",
      "Train: Breast = 1367, Colorectal = 129, Gynae = 84\n",
      "Test: Breast = 0, Colorectal = 175, Gynae = 0\n",
      "Train: Breast = 1367, Colorectal = 213, Gynae = 0\n",
      "Test: Breast = 0, Colorectal = 91, Gynae = 84\n"
     ]
    }
   ],
   "source": [
    "## An example of K-Fold splitting data into training (80%) and testing (20%) dataset\n",
    "from sklearn.model_selection import KFold\n",
    "skf = KFold(n_splits=10,random_state=42)\n",
    "for train_idx, test_idx in skf.split(dataVars_norm, data['Tissue_type']):\n",
    "    train_X, test_X = dataVars_norm.iloc[train_idx], dataVars_norm.iloc[test_idx]\n",
    "    train_y, test_y = data['Tissue'].iloc[train_idx], data['Tissue'].iloc[test_idx]\n",
    "    \n",
    "    train_Breast, train_Colorectal, train_Gynae = len(train_y[train_y==\"Breast\"]), len(train_y[train_y==\"Colorectal\"]), len(train_y[train_y==\"Gynae\"])\n",
    "    test_Breast, test_Colorectal, test_Gynae = len(test_y[test_y==\"Breast\"]), len(test_y[test_y==\"Colorectal\"]), len(test_y[test_y==\"Gynae\"])\n",
    "    print('Train: Breast = %d, Colorectal = %d, Gynae = %d' % (train_Breast, train_Colorectal, train_Gynae))\n",
    "    \n",
    "    print('Test: Breast = %d, Colorectal = %d, Gynae = %d' % (test_Breast, test_Colorectal, test_Gynae))\n",
    "    "
   ]
  },
  {
   "cell_type": "code",
   "execution_count": 248,
   "metadata": {
    "scrolled": true
   },
   "outputs": [
    {
     "data": {
      "image/png": "[encoded data removed]",
      "text/plain": [
       "<Figure size 432x288 with 1 Axes>"
      ]
     },
     "metadata": {
      "needs_background": "light"
     },
     "output_type": "display_data"
    }
   ],
   "source": [
    "## A figure of shuffle split cross-validation behaviours\n",
    "fig, ax = plt.subplots()\n",
    "cv = ShuffleSplit(n_splits=5)\n",
    "plot_cv_indices(cv, dataVars_norm, y, z, ax, 5)\n",
    "plt.savefig('/Users/teeraponsahwangarrom/SSPic.png', dpi=300)"
   ]
  },
  {
   "cell_type": "code",
   "execution_count": 174,
   "metadata": {},
   "outputs": [
    {
     "name": "stdout",
     "output_type": "stream",
     "text": [
      "Train: Breast = 1225, Colorectal = 286, Gynae = 68\n",
      "Test: Breast = 142, Colorectal = 18, Gynae = 16\n",
      "Train: Breast = 1228, Colorectal = 274, Gynae = 77\n",
      "Test: Breast = 139, Colorectal = 30, Gynae = 7\n",
      "Train: Breast = 1235, Colorectal = 270, Gynae = 74\n",
      "Test: Breast = 132, Colorectal = 34, Gynae = 10\n",
      "Train: Breast = 1231, Colorectal = 271, Gynae = 77\n",
      "Test: Breast = 136, Colorectal = 33, Gynae = 7\n",
      "Train: Breast = 1233, Colorectal = 276, Gynae = 70\n",
      "Test: Breast = 134, Colorectal = 28, Gynae = 14\n"
     ]
    }
   ],
   "source": [
    "## An example of shuffle split for splitting data into training (80%) and testing (20%) dataset\n",
    "from sklearn.model_selection import KFold\n",
    "kf = ShuffleSplit(n_splits=5, random_state=42)\n",
    "for train_idx, test_idx in kf.split(dataVars_norm, data['Tissue_type']):\n",
    "    train_X, test_X = dataVars_norm.iloc[train_idx], dataVars_norm.iloc[test_idx]\n",
    "    train_y, test_y = data['Tissue'].iloc[train_idx], data['Tissue'].iloc[test_idx]\n",
    "    \n",
    "    train_Breast, train_Colorectal, train_Gynae = len(train_y[train_y==\"Breast\"]), len(train_y[train_y==\"Colorectal\"]), len(train_y[train_y==\"Gynae\"])\n",
    "    test_Breast, test_Colorectal, test_Gynae = len(test_y[test_y==\"Breast\"]), len(test_y[test_y==\"Colorectal\"]), len(test_y[test_y==\"Gynae\"])\n",
    "    print('Train: Breast = %d, Colorectal = %d, Gynae = %d' % (train_Breast, train_Colorectal, train_Gynae))\n",
    "    \n",
    "    print('Test: Breast = %d, Colorectal = %d, Gynae = %d' % (test_Breast, test_Colorectal, test_Gynae))\n",
    "    "
   ]
  },
  {
   "cell_type": "code",
   "execution_count": null,
   "metadata": {},
   "outputs": [],
   "source": [
    "rkf = RepeatedKFold(n_splits=5, n_repeats = 2, random_state=42)\n",
    "for i, (train_idx, test_idx) in  enumerate(rkf.split(dataVars_norm, data['Tissue_type']),0):\n",
    "    X_train = X.iloc[train_idx]\n",
    "    y_train = y[train_idx]\n",
    "    X_test = X.iloc[test_idx]\n",
    "    y_test = y[test_idx]"
   ]
  },
  {
   "cell_type": "code",
   "execution_count": 210,
   "metadata": {
    "scrolled": false
   },
   "outputs": [
    {
     "data": {
      "text/plain": [
       "array([0.92295169, 0.91505636, 0.90330717, 0.91853466, 0.90623323,\n",
       "       0.91024142, 0.90667843, 0.92452394, 0.9218548 , 0.90129995])"
      ]
     },
     "execution_count": 210,
     "metadata": {},
     "output_type": "execute_result"
    }
   ],
   "source": [
    "lr_auc"
   ]
  },
  {
   "cell_type": "code",
   "execution_count": 211,
   "metadata": {},
   "outputs": [
    {
     "data": {
      "text/plain": [
       "array([0.92889893, 0.94394122, 0.92767307, 0.94700429, 0.92176597,\n",
       "       0.90982874, 0.92972037, 0.92697038, 0.94196094, 0.94965266])"
      ]
     },
     "execution_count": 211,
     "metadata": {},
     "output_type": "execute_result"
    }
   ],
   "source": [
    "svm_auc"
   ]
  },
  {
   "cell_type": "code",
   "execution_count": 212,
   "metadata": {},
   "outputs": [
    {
     "data": {
      "text/plain": [
       "array([0.93531132, 0.94451154, 0.93630886, 0.93617684, 0.91337896,\n",
       "       0.90577069, 0.9321637 , 0.9290201 , 0.96087637, 0.93992021])"
      ]
     },
     "execution_count": 212,
     "metadata": {},
     "output_type": "execute_result"
    }
   ],
   "source": [
    "xgb_auc"
   ]
  },
  {
   "cell_type": "code",
   "execution_count": 197,
   "metadata": {
    "scrolled": true
   },
   "outputs": [
    {
     "data": {
      "text/plain": [
       "0.9089120817080368"
      ]
     },
     "execution_count": 197,
     "metadata": {},
     "output_type": "execute_result"
    }
   ],
   "source": [
    "mean_tprs_lr.mean()"
   ]
  },
  {
   "cell_type": "code",
   "execution_count": 198,
   "metadata": {},
   "outputs": [
    {
     "data": {
      "text/plain": [
       "0.9275146356819431"
      ]
     },
     "execution_count": 198,
     "metadata": {},
     "output_type": "execute_result"
    }
   ],
   "source": [
    "mean_tprs_svm.mean()"
   ]
  },
  {
   "cell_type": "code",
   "execution_count": 199,
   "metadata": {
    "scrolled": true
   },
   "outputs": [
    {
     "data": {
      "text/plain": [
       "0.9279028137051423"
      ]
     },
     "execution_count": 199,
     "metadata": {},
     "output_type": "execute_result"
    }
   ],
   "source": [
    "mean_tprs_xgb.mean()"
   ]
  },
  {
   "cell_type": "code",
   "execution_count": 155,
   "metadata": {
    "scrolled": false
   },
   "outputs": [
    {
     "name": "stderr",
     "output_type": "stream",
     "text": [
      "/Users/teeraponsahwangarrom/opt/anaconda3/envs/bioinfo/lib/python3.6/site-packages/sklearn/utils/validation.py:73: DataConversionWarning: A column-vector y was passed when a 1d array was expected. Please change the shape of y to (n_samples, ), for example using ravel().\n",
      "  return f(**kwargs)\n",
      "/Users/teeraponsahwangarrom/opt/anaconda3/envs/bioinfo/lib/python3.6/site-packages/sklearn/utils/validation.py:73: DataConversionWarning: A column-vector y was passed when a 1d array was expected. Please change the shape of y to (n_samples, ), for example using ravel().\n",
      "  return f(**kwargs)\n",
      "/Users/teeraponsahwangarrom/opt/anaconda3/envs/bioinfo/lib/python3.6/site-packages/ipykernel_launcher.py:55: DeprecationWarning: scipy.interp is deprecated and will be removed in SciPy 2.0.0, use numpy.interp instead\n",
      "/Users/teeraponsahwangarrom/opt/anaconda3/envs/bioinfo/lib/python3.6/site-packages/ipykernel_launcher.py:56: DeprecationWarning: scipy.interp is deprecated and will be removed in SciPy 2.0.0, use numpy.interp instead\n",
      "/Users/teeraponsahwangarrom/opt/anaconda3/envs/bioinfo/lib/python3.6/site-packages/sklearn/utils/validation.py:73: DataConversionWarning: A column-vector y was passed when a 1d array was expected. Please change the shape of y to (n_samples, ), for example using ravel().\n",
      "  return f(**kwargs)\n",
      "/Users/teeraponsahwangarrom/opt/anaconda3/envs/bioinfo/lib/python3.6/site-packages/sklearn/utils/validation.py:73: DataConversionWarning: A column-vector y was passed when a 1d array was expected. Please change the shape of y to (n_samples, ), for example using ravel().\n",
      "  return f(**kwargs)\n",
      "/Users/teeraponsahwangarrom/opt/anaconda3/envs/bioinfo/lib/python3.6/site-packages/ipykernel_launcher.py:55: DeprecationWarning: scipy.interp is deprecated and will be removed in SciPy 2.0.0, use numpy.interp instead\n",
      "/Users/teeraponsahwangarrom/opt/anaconda3/envs/bioinfo/lib/python3.6/site-packages/ipykernel_launcher.py:56: DeprecationWarning: scipy.interp is deprecated and will be removed in SciPy 2.0.0, use numpy.interp instead\n",
      "/Users/teeraponsahwangarrom/opt/anaconda3/envs/bioinfo/lib/python3.6/site-packages/sklearn/utils/validation.py:73: DataConversionWarning: A column-vector y was passed when a 1d array was expected. Please change the shape of y to (n_samples, ), for example using ravel().\n",
      "  return f(**kwargs)\n",
      "/Users/teeraponsahwangarrom/opt/anaconda3/envs/bioinfo/lib/python3.6/site-packages/sklearn/utils/validation.py:73: DataConversionWarning: A column-vector y was passed when a 1d array was expected. Please change the shape of y to (n_samples, ), for example using ravel().\n",
      "  return f(**kwargs)\n",
      "/Users/teeraponsahwangarrom/opt/anaconda3/envs/bioinfo/lib/python3.6/site-packages/ipykernel_launcher.py:55: DeprecationWarning: scipy.interp is deprecated and will be removed in SciPy 2.0.0, use numpy.interp instead\n",
      "/Users/teeraponsahwangarrom/opt/anaconda3/envs/bioinfo/lib/python3.6/site-packages/ipykernel_launcher.py:56: DeprecationWarning: scipy.interp is deprecated and will be removed in SciPy 2.0.0, use numpy.interp instead\n",
      "/Users/teeraponsahwangarrom/opt/anaconda3/envs/bioinfo/lib/python3.6/site-packages/sklearn/utils/validation.py:73: DataConversionWarning: A column-vector y was passed when a 1d array was expected. Please change the shape of y to (n_samples, ), for example using ravel().\n",
      "  return f(**kwargs)\n",
      "/Users/teeraponsahwangarrom/opt/anaconda3/envs/bioinfo/lib/python3.6/site-packages/sklearn/utils/validation.py:73: DataConversionWarning: A column-vector y was passed when a 1d array was expected. Please change the shape of y to (n_samples, ), for example using ravel().\n",
      "  return f(**kwargs)\n",
      "/Users/teeraponsahwangarrom/opt/anaconda3/envs/bioinfo/lib/python3.6/site-packages/ipykernel_launcher.py:55: DeprecationWarning: scipy.interp is deprecated and will be removed in SciPy 2.0.0, use numpy.interp instead\n",
      "/Users/teeraponsahwangarrom/opt/anaconda3/envs/bioinfo/lib/python3.6/site-packages/ipykernel_launcher.py:56: DeprecationWarning: scipy.interp is deprecated and will be removed in SciPy 2.0.0, use numpy.interp instead\n",
      "/Users/teeraponsahwangarrom/opt/anaconda3/envs/bioinfo/lib/python3.6/site-packages/sklearn/utils/validation.py:73: DataConversionWarning: A column-vector y was passed when a 1d array was expected. Please change the shape of y to (n_samples, ), for example using ravel().\n",
      "  return f(**kwargs)\n",
      "/Users/teeraponsahwangarrom/opt/anaconda3/envs/bioinfo/lib/python3.6/site-packages/sklearn/utils/validation.py:73: DataConversionWarning: A column-vector y was passed when a 1d array was expected. Please change the shape of y to (n_samples, ), for example using ravel().\n",
      "  return f(**kwargs)\n",
      "/Users/teeraponsahwangarrom/opt/anaconda3/envs/bioinfo/lib/python3.6/site-packages/ipykernel_launcher.py:55: DeprecationWarning: scipy.interp is deprecated and will be removed in SciPy 2.0.0, use numpy.interp instead\n",
      "/Users/teeraponsahwangarrom/opt/anaconda3/envs/bioinfo/lib/python3.6/site-packages/ipykernel_launcher.py:56: DeprecationWarning: scipy.interp is deprecated and will be removed in SciPy 2.0.0, use numpy.interp instead\n",
      "/Users/teeraponsahwangarrom/opt/anaconda3/envs/bioinfo/lib/python3.6/site-packages/sklearn/utils/validation.py:73: DataConversionWarning: A column-vector y was passed when a 1d array was expected. Please change the shape of y to (n_samples, ), for example using ravel().\n",
      "  return f(**kwargs)\n",
      "/Users/teeraponsahwangarrom/opt/anaconda3/envs/bioinfo/lib/python3.6/site-packages/sklearn/utils/validation.py:73: DataConversionWarning: A column-vector y was passed when a 1d array was expected. Please change the shape of y to (n_samples, ), for example using ravel().\n",
      "  return f(**kwargs)\n",
      "/Users/teeraponsahwangarrom/opt/anaconda3/envs/bioinfo/lib/python3.6/site-packages/ipykernel_launcher.py:55: DeprecationWarning: scipy.interp is deprecated and will be removed in SciPy 2.0.0, use numpy.interp instead\n",
      "/Users/teeraponsahwangarrom/opt/anaconda3/envs/bioinfo/lib/python3.6/site-packages/ipykernel_launcher.py:56: DeprecationWarning: scipy.interp is deprecated and will be removed in SciPy 2.0.0, use numpy.interp instead\n",
      "/Users/teeraponsahwangarrom/opt/anaconda3/envs/bioinfo/lib/python3.6/site-packages/sklearn/utils/validation.py:73: DataConversionWarning: A column-vector y was passed when a 1d array was expected. Please change the shape of y to (n_samples, ), for example using ravel().\n",
      "  return f(**kwargs)\n",
      "/Users/teeraponsahwangarrom/opt/anaconda3/envs/bioinfo/lib/python3.6/site-packages/sklearn/utils/validation.py:73: DataConversionWarning: A column-vector y was passed when a 1d array was expected. Please change the shape of y to (n_samples, ), for example using ravel().\n",
      "  return f(**kwargs)\n",
      "/Users/teeraponsahwangarrom/opt/anaconda3/envs/bioinfo/lib/python3.6/site-packages/ipykernel_launcher.py:55: DeprecationWarning: scipy.interp is deprecated and will be removed in SciPy 2.0.0, use numpy.interp instead\n",
      "/Users/teeraponsahwangarrom/opt/anaconda3/envs/bioinfo/lib/python3.6/site-packages/ipykernel_launcher.py:56: DeprecationWarning: scipy.interp is deprecated and will be removed in SciPy 2.0.0, use numpy.interp instead\n",
      "/Users/teeraponsahwangarrom/opt/anaconda3/envs/bioinfo/lib/python3.6/site-packages/sklearn/utils/validation.py:73: DataConversionWarning: A column-vector y was passed when a 1d array was expected. Please change the shape of y to (n_samples, ), for example using ravel().\n",
      "  return f(**kwargs)\n",
      "/Users/teeraponsahwangarrom/opt/anaconda3/envs/bioinfo/lib/python3.6/site-packages/sklearn/utils/validation.py:73: DataConversionWarning: A column-vector y was passed when a 1d array was expected. Please change the shape of y to (n_samples, ), for example using ravel().\n",
      "  return f(**kwargs)\n",
      "/Users/teeraponsahwangarrom/opt/anaconda3/envs/bioinfo/lib/python3.6/site-packages/ipykernel_launcher.py:55: DeprecationWarning: scipy.interp is deprecated and will be removed in SciPy 2.0.0, use numpy.interp instead\n",
      "/Users/teeraponsahwangarrom/opt/anaconda3/envs/bioinfo/lib/python3.6/site-packages/ipykernel_launcher.py:56: DeprecationWarning: scipy.interp is deprecated and will be removed in SciPy 2.0.0, use numpy.interp instead\n",
      "/Users/teeraponsahwangarrom/opt/anaconda3/envs/bioinfo/lib/python3.6/site-packages/sklearn/utils/validation.py:73: DataConversionWarning: A column-vector y was passed when a 1d array was expected. Please change the shape of y to (n_samples, ), for example using ravel().\n",
      "  return f(**kwargs)\n",
      "/Users/teeraponsahwangarrom/opt/anaconda3/envs/bioinfo/lib/python3.6/site-packages/sklearn/utils/validation.py:73: DataConversionWarning: A column-vector y was passed when a 1d array was expected. Please change the shape of y to (n_samples, ), for example using ravel().\n",
      "  return f(**kwargs)\n",
      "/Users/teeraponsahwangarrom/opt/anaconda3/envs/bioinfo/lib/python3.6/site-packages/ipykernel_launcher.py:55: DeprecationWarning: scipy.interp is deprecated and will be removed in SciPy 2.0.0, use numpy.interp instead\n",
      "/Users/teeraponsahwangarrom/opt/anaconda3/envs/bioinfo/lib/python3.6/site-packages/ipykernel_launcher.py:56: DeprecationWarning: scipy.interp is deprecated and will be removed in SciPy 2.0.0, use numpy.interp instead\n",
      "/Users/teeraponsahwangarrom/opt/anaconda3/envs/bioinfo/lib/python3.6/site-packages/sklearn/utils/validation.py:73: DataConversionWarning: A column-vector y was passed when a 1d array was expected. Please change the shape of y to (n_samples, ), for example using ravel().\n",
      "  return f(**kwargs)\n",
      "/Users/teeraponsahwangarrom/opt/anaconda3/envs/bioinfo/lib/python3.6/site-packages/sklearn/utils/validation.py:73: DataConversionWarning: A column-vector y was passed when a 1d array was expected. Please change the shape of y to (n_samples, ), for example using ravel().\n",
      "  return f(**kwargs)\n",
      "/Users/teeraponsahwangarrom/opt/anaconda3/envs/bioinfo/lib/python3.6/site-packages/ipykernel_launcher.py:55: DeprecationWarning: scipy.interp is deprecated and will be removed in SciPy 2.0.0, use numpy.interp instead\n",
      "/Users/teeraponsahwangarrom/opt/anaconda3/envs/bioinfo/lib/python3.6/site-packages/ipykernel_launcher.py:56: DeprecationWarning: scipy.interp is deprecated and will be removed in SciPy 2.0.0, use numpy.interp instead\n",
      "/Users/teeraponsahwangarrom/opt/anaconda3/envs/bioinfo/lib/python3.6/site-packages/ipykernel_launcher.py:89: MatplotlibDeprecationWarning: Adding an axes using the same arguments as a previous axes currently reuses the earlier instance.  In a future version, a new instance will always be created and returned.  Meanwhile, this warning can be suppressed, and the future behavior ensured, by passing a unique label to each axes instance.\n"
     ]
    },
    {
     "name": "stdout",
     "output_type": "stream",
     "text": [
      "LR Before Feature Selection: AUROC = 0.907\n",
      "LR After Feature Selection: AUROC = 0.951\n"
     ]
    },
    {
     "data": {
      "image/png": "[encoded data removed]",
      "text/plain": [
       "<Figure size 360x360 with 1 Axes>"
      ]
     },
     "metadata": {
      "needs_background": "light"
     },
     "output_type": "display_data"
    }
   ],
   "source": [
    "###*** ROC Curve of LR (Comparison between before and after Feature Selection)***\n",
    "from itertools import cycle\n",
    "\n",
    "from sklearn.metrics import roc_curve, auc\n",
    "from sklearn.preprocessing import label_binarize\n",
    "from sklearn.multiclass import OneVsRestClassifier\n",
    "from scipy import interp\n",
    "from sklearn.metrics import roc_auc_score\n",
    "\n",
    "X = dataVars_norm\n",
    "y = data['Tissue_type']\n",
    "\n",
    "## Binarize the output\n",
    "y = label_binarize(y, classes=[\"Cancer\",\"Normal\"])\n",
    "n_classes = y.shape[1]\n",
    "\n",
    "tprs_b = []\n",
    "tprs_a =[]\n",
    "\n",
    "lr_auc_b = np.empty(shape=(10),dtype='float')\n",
    "lr_auc_a = np.empty(shape=(10),dtype='float')\n",
    "\n",
    "base_fpr_b = np.linspace(0,1,101)\n",
    "base_fpr_a = np.linspace(0,1,101)\n",
    "plt.figure(figsize=(5,5))\n",
    "\n",
    "\n",
    "rkf = RepeatedStratifiedKFold(n_splits=5, n_repeats=2,random_state =42)\n",
    "for i, (train_idx, test_idx) in  enumerate(rkf.split(dataVars_norm, data['Tissue_type']),0):\n",
    "    X_train = X.iloc[train_idx]\n",
    "    y_train = y[train_idx]\n",
    "    X_test = X.iloc[test_idx]\n",
    "    y_test = y[test_idx]\n",
    "    \n",
    "    lr_before = LogisticRegression(solver='liblinear').fit(X_train, y_train)\n",
    "    lr_after = LogisticRegression(solver='liblinear').fit(X_train[fs], y_train)\n",
    "    \n",
    "    y_score_before = lr_before.predict_proba(X_test)\n",
    "    y_score_after = lr_after.predict_proba(X_test[fs])\n",
    "    \n",
    "    fpr_b, tpr_b, _b = roc_curve(y_test, y_score_before[:,1])\n",
    "    fpr_a, tpr_a, _a = roc_curve(y_test, y_score_after[:,1])\n",
    "    \n",
    "    lr_probs_b = y_score_before[:,1]\n",
    "    lr_probs_a = y_score_after[:,1]\n",
    "    \n",
    "    \n",
    "    lr_auc_b[i] = roc_auc_score(y_test, lr_probs_b)\n",
    "    lr_auc_a[i] = roc_auc_score(y_test, lr_probs_a)\n",
    "    \n",
    "    \n",
    "    plt.plot(fpr_b, tpr_b, 'b', alpha=0.15)\n",
    "    plt.plot(fpr_a, tpr_a, 'r', alpha= 0.15)\n",
    "    \n",
    "    tpr_b = interp(base_fpr_b, fpr_b, tpr_b)\n",
    "    tpr_a = interp(base_fpr_a, fpr_a, tpr_a)\n",
    "    tpr_b[0] = 0.0\n",
    "    tpr_a[0] = 0.0\n",
    "    tprs_b.append(tpr_b)\n",
    "    tprs_a.append(tpr_a)\n",
    "    \n",
    "tprs_b = np.array(tprs_b)\n",
    "tprs_a = np.array(tprs_a)\n",
    "\n",
    "mean_tprs_b = tprs_b.mean(axis=0)\n",
    "mean_tprs_a = tprs_a.mean(axis=0)\n",
    "std_b = tprs_b.std(axis=0)\n",
    "std_a = tprs_a.std(axis=0)\n",
    "\n",
    "tprs_upper_b = np.minimum(mean_tprs_b + std_b, 1)\n",
    "tprs_lower_b = mean_tprs_b - std_b\n",
    "\n",
    "tprs_upper_a = np.minimum(mean_tprs_a + std_a, 1)\n",
    "tprs_lower_a = mean_tprs_a - std_a\n",
    "\n",
    "print(\"LR Before Feature Selection: AUROC = %.3f\" % (lr_auc_b.mean()))\n",
    "print(\"LR After Feature Selection: AUROC = %.3f\" % (lr_auc_a.mean()))\n",
    "\n",
    "plt.plot(base_fpr_b, mean_tprs_b, 'b', label ='LR before feature selection')\n",
    "#plt.fill_between(base_fpr_b, tprs_lower_b, tprs_upper_b, color='grey', alpha=0.3)\n",
    "plt.plot(base_fpr_a, mean_tprs_a, 'r',label ='LR after feature selection (AUROC = %0.3f)')\n",
    "#plt.fill_between(base_fpr_a, tprs_lower_a, tprs_upper_a, color='green', alpha=0.3)\n",
    "\n",
    "plt.plot([0, 1], [0, 1],'r--')\n",
    "plt.xlim([-0.01, 1.01])\n",
    "plt.ylim([-0.01, 1.01])\n",
    "plt.ylabel('True Positive Rate')\n",
    "plt.xlabel('False Positive Rate')\n",
    "plt.axes().set_aspect('equal', 'datalim')\n",
    "plt.savefig('/Users/teeraponsahwangarrom/ROC_Project2_BandA.png', dpi=300)\n",
    "plt.show()\n",
    "\n",
    "\n",
    "\n",
    "    ## Build classification model\n",
    "\n",
    "\n",
    "## LR\n",
    "#lr_before = LogisticRegression(solver='liblinear')\n",
    "#lr_before.fit(X_train, y_train)\n",
    "\n",
    "#lr_after = LogisticRegression(solver='liblinear')\n",
    "#lr_after.fit(X_train[mf], y_train)\n",
    "## Prediction probabilities\n",
    "#r_probs = [0 for _ in range(len(y_test))]\n",
    "\n",
    "#lr_probs_b = lr_before.predict_proba(X_test)\n",
    "#lr_probs_a = lr_after.predict_proba(X_test[mf])\n",
    "\n",
    "# Proabilities for the positive outcome is kept\n",
    "\n",
    "#lr_probs_b = lr_probs_b[:,1]\n",
    "#lr_probs_a = lr_probs_a[:,1]\n",
    "## Computing AUROC and ROC curve values\n",
    "## Calculate AUROC\n",
    "## ROC is the receiver operating characteristic AUROC is the area under the ROC curve\n",
    "#r_auc = roc_auc_score(y_test, r_probs)\n",
    "\n",
    "#lr_auc_b = roc_auc_score(y_test, lr_probs_b)\n",
    "#lr_auc_a = roc_auc_score(y_test, lr_probs_a)\n",
    "## Print AUROC scores\n",
    "#print(\"Random (chance) Prediction: AUROC = %.3f\" % (r_auc))\n",
    "\n",
    "#print(\"LR before feature selection: AUROC = %.3f\" % (lr_auc_b))\n",
    "#print(\"LR after feature selection: AUROC = %.3f\" % (lr_auc_a))\n",
    "\n",
    "## Claculate ROC curve\n",
    "#r_fpr, r_tpr, _ = roc_curve(y_test, r_probs)\n",
    "\n",
    "#lr_fpr_b, lr_tpr_b, _b = roc_curve(y_test, lr_probs_b)\n",
    "#lr_fpr_a, lr_tpr_a, _a = roc_curve(y_test, lr_probs_a)\n",
    "## Plot ROC curve\n",
    "#plt.plot(r_fpr, r_tpr, linestyle='--', label ='Random prediction (AUROC = %0.3f)' % r_auc)\n",
    "\n",
    "#plt.plot(lr_fpr_b, lr_tpr_b, linestyle='solid', label ='LR before feature selection (AUROC = %0.3f)' % lr_auc_b)\n",
    "#plt.plot(lr_fpr_a, lr_tpr_a, linestyle='solid', label ='LR after feature selection (AUROC = %0.3f)' % lr_auc_a)\n",
    "## title\n",
    "#plt.title('ROC Plot')\n",
    "\n",
    "## Axis labels\n",
    "#plt.xlabel('False Positive Rate')\n",
    "#plt.ylabel('True Positive Rate')\n",
    "\n",
    "## Show legend\n",
    "#plt.legend()\n",
    "#plt.show()"
   ]
  },
  {
   "cell_type": "code",
   "execution_count": 220,
   "metadata": {
    "scrolled": false
   },
   "outputs": [],
   "source": [
    "dataVars_norm[sdt].to_csv('/Users/teeraponsahwangarrom/Desktop/DataForBP_rkfFinal.csv')"
   ]
  },
  {
   "cell_type": "code",
   "execution_count": 387,
   "metadata": {},
   "outputs": [],
   "source": [
    "data['Tissue_type'].to_csv('/Users/teeraponsahwangarrom/Desktop/Tissue_type.csv')"
   ]
  },
  {
   "cell_type": "code",
   "execution_count": 219,
   "metadata": {},
   "outputs": [],
   "source": [
    "sdt = np.array(['794.5690','389.1970','671.4660','700.5820','921.7620','896.7460','157.0520','164.0810'])"
   ]
  },
  {
   "cell_type": "code",
   "execution_count": 136,
   "metadata": {},
   "outputs": [],
   "source": [
    "## Function for performing logistic regression model\n",
    "def run_lr(X_train, X_test, y_train, y_test):\n",
    "    lr = LogisticRegression(solver='liblinear')\n",
    "    lr.fit(X_train, y_train)\n",
    "    y_pred = lr.predict(X_test)\n",
    "    print(\"Accuracy: \", accuracy_score(y_test, y_pred))"
   ]
  },
  {
   "cell_type": "code",
   "execution_count": 17,
   "metadata": {},
   "outputs": [],
   "source": [
    "## Making empty vector for collecting 30 selected features for 100 iterations \n",
    "features = np.empty(shape=(100,30),dtype='object')"
   ]
  },
  {
   "cell_type": "code",
   "execution_count": 595,
   "metadata": {
    "scrolled": false
   },
   "outputs": [
    {
     "name": "stdout",
     "output_type": "stream",
     "text": [
      "Iteration round:  0\n",
      "Accuracy before feature selection\n",
      "Accuracy:  0.8319088319088319\n",
      "\n",
      "Accuracy after feature selection\n",
      "Accuracy:  0.7891737891737892\n",
      "\n",
      "Iteration round:  1\n",
      "Accuracy before feature selection\n",
      "Accuracy:  0.8774928774928775\n",
      "\n",
      "Accuracy after feature selection\n",
      "Accuracy:  0.8319088319088319\n",
      "\n",
      "Iteration round:  2\n",
      "Accuracy before feature selection\n",
      "Accuracy:  0.8803418803418803\n",
      "\n",
      "Accuracy after feature selection\n",
      "Accuracy:  0.8262108262108262\n",
      "\n",
      "Iteration round:  3\n",
      "Accuracy before feature selection\n",
      "Accuracy:  0.8660968660968661\n",
      "\n",
      "Accuracy after feature selection\n",
      "Accuracy:  0.8404558404558404\n",
      "\n",
      "Iteration round:  4\n",
      "Accuracy before feature selection\n",
      "Accuracy:  0.8603988603988604\n",
      "\n",
      "Accuracy after feature selection\n",
      "Accuracy:  0.8005698005698005\n",
      "\n",
      "Iteration round:  5\n",
      "Accuracy before feature selection\n",
      "Accuracy:  0.8974358974358975\n",
      "\n",
      "Accuracy after feature selection\n",
      "Accuracy:  0.8262108262108262\n",
      "\n",
      "Iteration round:  6\n",
      "Accuracy before feature selection\n",
      "Accuracy:  0.8547008547008547\n",
      "\n",
      "Accuracy after feature selection\n",
      "Accuracy:  0.811965811965812\n",
      "\n",
      "Iteration round:  7\n",
      "Accuracy before feature selection\n",
      "Accuracy:  0.8945868945868946\n",
      "\n",
      "Accuracy after feature selection\n",
      "Accuracy:  0.8404558404558404\n",
      "\n",
      "Iteration round:  8\n",
      "Accuracy before feature selection\n",
      "Accuracy:  0.8404558404558404\n",
      "\n",
      "Accuracy after feature selection\n",
      "Accuracy:  0.792022792022792\n",
      "\n",
      "Iteration round:  9\n",
      "Accuracy before feature selection\n",
      "Accuracy:  0.8490028490028491\n",
      "\n",
      "Accuracy after feature selection\n",
      "Accuracy:  0.8062678062678063\n",
      "\n",
      "Iteration round:  10\n",
      "Accuracy before feature selection\n",
      "Accuracy:  0.8603988603988604\n",
      "\n",
      "Accuracy after feature selection\n",
      "Accuracy:  0.7977207977207977\n",
      "\n",
      "Iteration round:  11\n",
      "Accuracy before feature selection\n",
      "Accuracy:  0.8831908831908832\n",
      "\n",
      "Accuracy after feature selection\n",
      "Accuracy:  0.7977207977207977\n",
      "\n",
      "Iteration round:  12\n",
      "Accuracy before feature selection\n",
      "Accuracy:  0.8490028490028491\n",
      "\n",
      "Accuracy after feature selection\n",
      "Accuracy:  0.7834757834757835\n",
      "\n",
      "Iteration round:  13\n",
      "Accuracy before feature selection\n",
      "Accuracy:  0.8803418803418803\n",
      "\n",
      "Accuracy after feature selection\n",
      "Accuracy:  0.8062678062678063\n",
      "\n",
      "Iteration round:  14\n",
      "Accuracy before feature selection\n",
      "Accuracy:  0.8632478632478633\n",
      "\n",
      "Accuracy after feature selection\n",
      "Accuracy:  0.792022792022792\n",
      "\n",
      "Iteration round:  15\n",
      "Accuracy before feature selection\n",
      "Accuracy:  0.8547008547008547\n",
      "\n",
      "Accuracy after feature selection\n",
      "Accuracy:  0.8176638176638177\n",
      "\n",
      "Iteration round:  16\n",
      "Accuracy before feature selection\n",
      "Accuracy:  0.8746438746438746\n",
      "\n",
      "Accuracy after feature selection\n",
      "Accuracy:  0.7948717948717948\n",
      "\n",
      "Iteration round:  17\n",
      "Accuracy before feature selection\n",
      "Accuracy:  0.8888888888888888\n",
      "\n",
      "Accuracy after feature selection\n",
      "Accuracy:  0.8091168091168092\n",
      "\n",
      "Iteration round:  18\n",
      "Accuracy before feature selection\n",
      "Accuracy:  0.8490028490028491\n",
      "\n",
      "Accuracy after feature selection\n",
      "Accuracy:  0.8062678062678063\n",
      "\n",
      "Iteration round:  19\n",
      "Accuracy before feature selection\n",
      "Accuracy:  0.8689458689458689\n",
      "\n",
      "Accuracy after feature selection\n",
      "Accuracy:  0.8518518518518519\n",
      "\n",
      "Iteration round:  20\n",
      "Accuracy before feature selection\n",
      "Accuracy:  0.905982905982906\n",
      "\n",
      "Accuracy after feature selection\n",
      "Accuracy:  0.8062678062678063\n",
      "\n",
      "Iteration round:  21\n",
      "Accuracy before feature selection\n",
      "Accuracy:  0.8490028490028491\n",
      "\n",
      "Accuracy after feature selection\n",
      "Accuracy:  0.7977207977207977\n",
      "\n",
      "Iteration round:  22\n",
      "Accuracy before feature selection\n",
      "Accuracy:  0.8689458689458689\n",
      "\n",
      "Accuracy after feature selection\n",
      "Accuracy:  0.7464387464387464\n",
      "\n",
      "Iteration round:  23\n",
      "Accuracy before feature selection\n",
      "Accuracy:  0.8746438746438746\n",
      "\n",
      "Accuracy after feature selection\n",
      "Accuracy:  0.8034188034188035\n",
      "\n",
      "Iteration round:  24\n",
      "Accuracy before feature selection\n",
      "Accuracy:  0.8660968660968661\n",
      "\n",
      "Accuracy after feature selection\n",
      "Accuracy:  0.7891737891737892\n",
      "\n",
      "Iteration round:  25\n",
      "Accuracy before feature selection\n",
      "Accuracy:  0.8945868945868946\n",
      "\n",
      "Accuracy after feature selection\n",
      "Accuracy:  0.8290598290598291\n",
      "\n",
      "Iteration round:  26\n",
      "Accuracy before feature selection\n",
      "Accuracy:  0.8518518518518519\n",
      "\n",
      "Accuracy after feature selection\n",
      "Accuracy:  0.792022792022792\n",
      "\n",
      "Iteration round:  27\n",
      "Accuracy before feature selection\n",
      "Accuracy:  0.8660968660968661\n",
      "\n",
      "Accuracy after feature selection\n",
      "Accuracy:  0.8262108262108262\n",
      "\n",
      "Iteration round:  28\n",
      "Accuracy before feature selection\n",
      "Accuracy:  0.8547008547008547\n",
      "\n",
      "Accuracy after feature selection\n",
      "Accuracy:  0.8034188034188035\n",
      "\n",
      "Iteration round:  29\n",
      "Accuracy before feature selection\n",
      "Accuracy:  0.8803418803418803\n",
      "\n",
      "Accuracy after feature selection\n",
      "Accuracy:  0.8062678062678063\n",
      "\n",
      "Iteration round:  30\n",
      "Accuracy before feature selection\n",
      "Accuracy:  0.8689458689458689\n",
      "\n",
      "Accuracy after feature selection\n",
      "Accuracy:  0.8005698005698005\n",
      "\n",
      "Iteration round:  31\n",
      "Accuracy before feature selection\n",
      "Accuracy:  0.8547008547008547\n",
      "\n",
      "Accuracy after feature selection\n",
      "Accuracy:  0.8034188034188035\n",
      "\n",
      "Iteration round:  32\n",
      "Accuracy before feature selection\n",
      "Accuracy:  0.8746438746438746\n",
      "\n",
      "Accuracy after feature selection\n",
      "Accuracy:  0.8518518518518519\n",
      "\n",
      "Iteration round:  33\n",
      "Accuracy before feature selection\n",
      "Accuracy:  0.8575498575498576\n",
      "\n",
      "Accuracy after feature selection\n",
      "Accuracy:  0.8376068376068376\n",
      "\n",
      "Iteration round:  34\n",
      "Accuracy before feature selection\n",
      "Accuracy:  0.8632478632478633\n",
      "\n",
      "Accuracy after feature selection\n",
      "Accuracy:  0.8319088319088319\n",
      "\n",
      "Iteration round:  35\n",
      "Accuracy before feature selection\n",
      "Accuracy:  0.8717948717948718\n",
      "\n",
      "Accuracy after feature selection\n",
      "Accuracy:  0.8262108262108262\n",
      "\n",
      "Iteration round:  36\n",
      "Accuracy before feature selection\n",
      "Accuracy:  0.8945868945868946\n",
      "\n",
      "Accuracy after feature selection\n",
      "Accuracy:  0.8091168091168092\n",
      "\n",
      "Iteration round:  37\n",
      "Accuracy before feature selection\n",
      "Accuracy:  0.8603988603988604\n",
      "\n",
      "Accuracy after feature selection\n",
      "Accuracy:  0.8062678062678063\n",
      "\n",
      "Iteration round:  38\n",
      "Accuracy before feature selection\n",
      "Accuracy:  0.8490028490028491\n",
      "\n",
      "Accuracy after feature selection\n",
      "Accuracy:  0.8148148148148148\n",
      "\n",
      "Iteration round:  39\n",
      "Accuracy before feature selection\n",
      "Accuracy:  0.8888888888888888\n",
      "\n",
      "Accuracy after feature selection\n",
      "Accuracy:  0.7863247863247863\n",
      "\n",
      "Iteration round:  40\n",
      "Accuracy before feature selection\n",
      "Accuracy:  0.8717948717948718\n",
      "\n",
      "Accuracy after feature selection\n",
      "Accuracy:  0.8347578347578347\n",
      "\n",
      "Iteration round:  41\n",
      "Accuracy before feature selection\n",
      "Accuracy:  0.8547008547008547\n",
      "\n",
      "Accuracy after feature selection\n",
      "Accuracy:  0.8005698005698005\n",
      "\n",
      "Iteration round:  42\n",
      "Accuracy before feature selection\n",
      "Accuracy:  0.8632478632478633\n",
      "\n",
      "Accuracy after feature selection\n",
      "Accuracy:  0.8319088319088319\n",
      "\n",
      "Iteration round:  43\n",
      "Accuracy before feature selection\n",
      "Accuracy:  0.8575498575498576\n",
      "\n",
      "Accuracy after feature selection\n",
      "Accuracy:  0.792022792022792\n",
      "\n",
      "Iteration round:  44\n",
      "Accuracy before feature selection\n",
      "Accuracy:  0.8774928774928775\n",
      "\n",
      "Accuracy after feature selection\n",
      "Accuracy:  0.8290598290598291\n",
      "\n",
      "Iteration round:  45\n",
      "Accuracy before feature selection\n",
      "Accuracy:  0.8774928774928775\n",
      "\n",
      "Accuracy after feature selection\n",
      "Accuracy:  0.8034188034188035\n",
      "\n",
      "Iteration round:  46\n",
      "Accuracy before feature selection\n",
      "Accuracy:  0.886039886039886\n",
      "\n",
      "Accuracy after feature selection\n",
      "Accuracy:  0.8148148148148148\n",
      "\n",
      "Iteration round:  47\n",
      "Accuracy before feature selection\n",
      "Accuracy:  0.8433048433048433\n",
      "\n",
      "Accuracy after feature selection\n",
      "Accuracy:  0.7806267806267806\n",
      "\n",
      "Iteration round:  48\n",
      "Accuracy before feature selection\n",
      "Accuracy:  0.886039886039886\n",
      "\n",
      "Accuracy after feature selection\n",
      "Accuracy:  0.8176638176638177\n",
      "\n",
      "Iteration round:  49\n",
      "Accuracy before feature selection\n",
      "Accuracy:  0.8575498575498576\n",
      "\n",
      "Accuracy after feature selection\n",
      "Accuracy:  0.8148148148148148\n",
      "\n",
      "Iteration round:  50\n",
      "Accuracy before feature selection\n",
      "Accuracy:  0.905982905982906\n",
      "\n",
      "Accuracy after feature selection\n",
      "Accuracy:  0.8461538461538461\n",
      "\n",
      "Iteration round:  51\n",
      "Accuracy before feature selection\n",
      "Accuracy:  0.8518518518518519\n",
      "\n",
      "Accuracy after feature selection\n",
      "Accuracy:  0.8176638176638177\n",
      "\n",
      "Iteration round:  52\n",
      "Accuracy before feature selection\n",
      "Accuracy:  0.8803418803418803\n",
      "\n",
      "Accuracy after feature selection\n",
      "Accuracy:  0.8148148148148148\n",
      "\n",
      "Iteration round:  53\n",
      "Accuracy before feature selection\n",
      "Accuracy:  0.8376068376068376\n",
      "\n",
      "Accuracy after feature selection\n",
      "Accuracy:  0.7891737891737892\n",
      "\n",
      "Iteration round:  54\n",
      "Accuracy before feature selection\n",
      "Accuracy:  0.8632478632478633\n",
      "\n",
      "Accuracy after feature selection\n",
      "Accuracy:  0.7948717948717948\n",
      "\n",
      "Iteration round:  55\n",
      "Accuracy before feature selection\n",
      "Accuracy:  0.8689458689458689\n",
      "\n",
      "Accuracy after feature selection\n",
      "Accuracy:  0.792022792022792\n",
      "\n",
      "Iteration round:  56\n",
      "Accuracy before feature selection\n",
      "Accuracy:  0.8518518518518519\n",
      "\n",
      "Accuracy after feature selection\n",
      "Accuracy:  0.811965811965812\n",
      "\n",
      "Iteration round:  57\n",
      "Accuracy before feature selection\n",
      "Accuracy:  0.8831908831908832\n",
      "\n",
      "Accuracy after feature selection\n",
      "Accuracy:  0.8148148148148148\n",
      "\n",
      "Iteration round:  58\n",
      "Accuracy before feature selection\n",
      "Accuracy:  0.8632478632478633\n",
      "\n",
      "Accuracy after feature selection\n",
      "Accuracy:  0.7977207977207977\n",
      "\n",
      "Iteration round:  59\n",
      "Accuracy before feature selection\n",
      "Accuracy:  0.8490028490028491\n",
      "\n",
      "Accuracy after feature selection\n",
      "Accuracy:  0.8005698005698005\n",
      "\n",
      "Iteration round:  60\n",
      "Accuracy before feature selection\n",
      "Accuracy:  0.8746438746438746\n",
      "\n",
      "Accuracy after feature selection\n",
      "Accuracy:  0.7863247863247863\n",
      "\n",
      "Iteration round:  61\n",
      "Accuracy before feature selection\n",
      "Accuracy:  0.8575498575498576\n",
      "\n",
      "Accuracy after feature selection\n",
      "Accuracy:  0.7948717948717948\n",
      "\n",
      "Iteration round:  62\n",
      "Accuracy before feature selection\n",
      "Accuracy:  0.8547008547008547\n",
      "\n",
      "Accuracy after feature selection\n",
      "Accuracy:  0.7777777777777778\n",
      "\n",
      "Iteration round:  63\n",
      "Accuracy before feature selection\n",
      "Accuracy:  0.8717948717948718\n",
      "\n",
      "Accuracy after feature selection\n",
      "Accuracy:  0.8005698005698005\n",
      "\n",
      "Iteration round:  64\n",
      "Accuracy before feature selection\n",
      "Accuracy:  0.8603988603988604\n",
      "\n",
      "Accuracy after feature selection\n",
      "Accuracy:  0.8091168091168092\n",
      "\n",
      "Iteration round:  65\n",
      "Accuracy before feature selection\n",
      "Accuracy:  0.8433048433048433\n",
      "\n",
      "Accuracy after feature selection\n",
      "Accuracy:  0.8091168091168092\n",
      "\n",
      "Iteration round:  66\n",
      "Accuracy before feature selection\n",
      "Accuracy:  0.8376068376068376\n",
      "\n",
      "Accuracy after feature selection\n",
      "Accuracy:  0.7720797720797721\n",
      "\n",
      "Iteration round:  67\n",
      "Accuracy before feature selection\n",
      "Accuracy:  0.8803418803418803\n",
      "\n",
      "Accuracy after feature selection\n",
      "Accuracy:  0.8005698005698005\n",
      "\n",
      "Iteration round:  68\n",
      "Accuracy before feature selection\n",
      "Accuracy:  0.8746438746438746\n",
      "\n",
      "Accuracy after feature selection\n",
      "Accuracy:  0.8376068376068376\n",
      "\n",
      "Iteration round:  69\n",
      "Accuracy before feature selection\n",
      "Accuracy:  0.8547008547008547\n",
      "\n",
      "Accuracy after feature selection\n",
      "Accuracy:  0.8205128205128205\n",
      "\n",
      "Iteration round:  70\n",
      "Accuracy before feature selection\n",
      "Accuracy:  0.8660968660968661\n",
      "\n",
      "Accuracy after feature selection\n",
      "Accuracy:  0.8034188034188035\n",
      "\n",
      "Iteration round:  71\n",
      "Accuracy before feature selection\n",
      "Accuracy:  0.8774928774928775\n",
      "\n",
      "Accuracy after feature selection\n",
      "Accuracy:  0.792022792022792\n",
      "\n",
      "Iteration round:  72\n",
      "Accuracy before feature selection\n",
      "Accuracy:  0.8803418803418803\n",
      "\n",
      "Accuracy after feature selection\n",
      "Accuracy:  0.8376068376068376\n",
      "\n",
      "Iteration round:  73\n",
      "Accuracy before feature selection\n",
      "Accuracy:  0.8717948717948718\n",
      "\n",
      "Accuracy after feature selection\n",
      "Accuracy:  0.8005698005698005\n",
      "\n",
      "Iteration round:  74\n",
      "Accuracy before feature selection\n",
      "Accuracy:  0.8660968660968661\n",
      "\n",
      "Accuracy after feature selection\n",
      "Accuracy:  0.7777777777777778\n",
      "\n",
      "Iteration round:  75\n",
      "Accuracy before feature selection\n",
      "Accuracy:  0.8689458689458689\n",
      "\n",
      "Accuracy after feature selection\n",
      "Accuracy:  0.8034188034188035\n",
      "\n",
      "Iteration round:  76\n",
      "Accuracy before feature selection\n",
      "Accuracy:  0.8660968660968661\n",
      "\n",
      "Accuracy after feature selection\n",
      "Accuracy:  0.8205128205128205\n",
      "\n",
      "Iteration round:  77\n",
      "Accuracy before feature selection\n",
      "Accuracy:  0.8689458689458689\n",
      "\n",
      "Accuracy after feature selection\n",
      "Accuracy:  0.7863247863247863\n",
      "\n",
      "Iteration round:  78\n",
      "Accuracy before feature selection\n",
      "Accuracy:  0.8689458689458689\n",
      "\n",
      "Accuracy after feature selection\n",
      "Accuracy:  0.7692307692307693\n",
      "\n",
      "Iteration round:  79\n",
      "Accuracy before feature selection\n",
      "Accuracy:  0.8974358974358975\n",
      "\n",
      "Accuracy after feature selection\n",
      "Accuracy:  0.8148148148148148\n",
      "\n",
      "Iteration round:  80\n",
      "Accuracy before feature selection\n",
      "Accuracy:  0.8689458689458689\n",
      "\n",
      "Accuracy after feature selection\n",
      "Accuracy:  0.8376068376068376\n",
      "\n",
      "Iteration round:  81\n",
      "Accuracy before feature selection\n",
      "Accuracy:  0.8632478632478633\n",
      "\n",
      "Accuracy after feature selection\n",
      "Accuracy:  0.7891737891737892\n",
      "\n",
      "Iteration round:  82\n",
      "Accuracy before feature selection\n",
      "Accuracy:  0.886039886039886\n",
      "\n",
      "Accuracy after feature selection\n",
      "Accuracy:  0.8091168091168092\n",
      "\n",
      "Iteration round:  83\n",
      "Accuracy before feature selection\n",
      "Accuracy:  0.8290598290598291\n",
      "\n",
      "Accuracy after feature selection\n",
      "Accuracy:  0.811965811965812\n",
      "\n",
      "Iteration round:  84\n",
      "Accuracy before feature selection\n",
      "Accuracy:  0.8803418803418803\n",
      "\n",
      "Accuracy after feature selection\n",
      "Accuracy:  0.8319088319088319\n",
      "\n",
      "Iteration round:  85\n",
      "Accuracy before feature selection\n",
      "Accuracy:  0.8746438746438746\n",
      "\n",
      "Accuracy after feature selection\n",
      "Accuracy:  0.8575498575498576\n",
      "\n",
      "Iteration round:  86\n",
      "Accuracy before feature selection\n",
      "Accuracy:  0.8433048433048433\n",
      "\n",
      "Accuracy after feature selection\n",
      "Accuracy:  0.8176638176638177\n",
      "\n",
      "Iteration round:  87\n",
      "Accuracy before feature selection\n",
      "Accuracy:  0.8689458689458689\n",
      "\n",
      "Accuracy after feature selection\n",
      "Accuracy:  0.7606837606837606\n",
      "\n",
      "Iteration round:  88\n",
      "Accuracy before feature selection\n",
      "Accuracy:  0.8803418803418803\n",
      "\n",
      "Accuracy after feature selection\n",
      "Accuracy:  0.8376068376068376\n",
      "\n",
      "Iteration round:  89\n",
      "Accuracy before feature selection\n",
      "Accuracy:  0.886039886039886\n",
      "\n",
      "Accuracy after feature selection\n",
      "Accuracy:  0.8233618233618234\n",
      "\n",
      "Iteration round:  90\n",
      "Accuracy before feature selection\n",
      "Accuracy:  0.8347578347578347\n",
      "\n",
      "Accuracy after feature selection\n",
      "Accuracy:  0.7863247863247863\n",
      "\n",
      "Iteration round:  91\n",
      "Accuracy before feature selection\n",
      "Accuracy:  0.9031339031339032\n",
      "\n",
      "Accuracy after feature selection\n",
      "Accuracy:  0.8575498575498576\n",
      "\n",
      "Iteration round:  92\n",
      "Accuracy before feature selection\n",
      "Accuracy:  0.8490028490028491\n",
      "\n",
      "Accuracy after feature selection\n",
      "Accuracy:  0.8689458689458689\n",
      "\n",
      "Iteration round:  93\n",
      "Accuracy before feature selection\n",
      "Accuracy:  0.8319088319088319\n",
      "\n",
      "Accuracy after feature selection\n",
      "Accuracy:  0.8005698005698005\n",
      "\n",
      "Iteration round:  94\n",
      "Accuracy before feature selection\n",
      "Accuracy:  0.8831908831908832\n",
      "\n",
      "Accuracy after feature selection\n",
      "Accuracy:  0.8404558404558404\n",
      "\n",
      "Iteration round:  95\n",
      "Accuracy before feature selection\n",
      "Accuracy:  0.8632478632478633\n",
      "\n",
      "Accuracy after feature selection\n",
      "Accuracy:  0.7692307692307693\n",
      "\n",
      "Iteration round:  96\n",
      "Accuracy before feature selection\n",
      "Accuracy:  0.8689458689458689\n",
      "\n",
      "Accuracy after feature selection\n",
      "Accuracy:  0.811965811965812\n",
      "\n",
      "Iteration round:  97\n",
      "Accuracy before feature selection\n",
      "Accuracy:  0.8888888888888888\n",
      "\n",
      "Accuracy after feature selection\n",
      "Accuracy:  0.811965811965812\n",
      "\n",
      "Iteration round:  98\n",
      "Accuracy before feature selection\n",
      "Accuracy:  0.8575498575498576\n",
      "\n",
      "Accuracy after feature selection\n",
      "Accuracy:  0.8034188034188035\n",
      "\n",
      "Iteration round:  99\n",
      "Accuracy before feature selection\n",
      "Accuracy:  0.8632478632478633\n",
      "\n",
      "Accuracy after feature selection\n",
      "Accuracy:  0.7720797720797721\n",
      "\n"
     ]
    }
   ],
   "source": [
    "### Performing recursive feature elimination (RFE) for 100 iterations\n",
    "## RFE selected 30 important features for each iteration\n",
    "from sklearn.feature_selection import RFE\n",
    "n = 0\n",
    "rskf = RepeatedStratifiedKFold(n_splits=5,n_repeats=20, random_state=42)\n",
    "for train_idx, test_idx in rskf.split(dataVars_norm, data['Tissue_type']):\n",
    "    X_train = dataVars_norm.iloc[train_idx]\n",
    "    y_train = data['Tissue_type'].iloc[train_idx]\n",
    "    X_test = dataVars_norm.iloc[test_idx]\n",
    "    y_test = data['Tissue_type'].iloc[test_idx]\n",
    "    print('Iteration round: ', n)\n",
    "    print('Accuracy before feature selection')\n",
    "    run_lr(X_train, X_test, y_train, y_test)\n",
    "    print()\n",
    "    sel = RFE(LogisticRegression(solver='liblinear'), n_features_to_select = 30)\n",
    "    sel.fit(X_train, y_train)\n",
    "    feature[n] = X_train.columns[sel.get_support()]\n",
    "    X_train_lr = sel.transform(X_train)\n",
    "    X_test_lr = sel.transform(X_test)\n",
    "    n = n+1\n",
    "    print('Accuracy after feature selection')\n",
    "    run_lr(X_train_lr, X_test_lr, y_train, y_test)\n",
    "    print()  "
   ]
  },
  {
   "cell_type": "code",
   "execution_count": null,
   "metadata": {},
   "outputs": [],
   "source": [
    "## To extract the information of RFE's result\n",
    "features = feature.flatten()\n",
    "from collections import Counter\n",
    "counter = Counter(features)\n",
    "fc_rskf = pd.DataFrame.from_dict(counter, orient='index').reset_index()\n",
    "fc_rskf = fc_rskf.rename(columns={'index': 'molecular_features', 0:'count'})\n",
    "fc_rskf.sort_values(\"count\", axis = 0, ascending= False, inplace=True)\n",
    "fc_rskf"
   ]
  },
  {
   "cell_type": "code",
   "execution_count": 598,
   "metadata": {},
   "outputs": [],
   "source": [
    "fc_rskf.to_csv('/Users/teeraponsahwangarrom/Desktop/FC_RFE_rskf30_100.csv')"
   ]
  },
  {
   "cell_type": "code",
   "execution_count": 221,
   "metadata": {
    "scrolled": true
   },
   "outputs": [],
   "source": [
    "fc = pd.read_csv('/Users/teeraponsahwangarrom/Desktop/FC_RFE_rskf30_100.csv')"
   ]
  },
  {
   "cell_type": "code",
   "execution_count": 222,
   "metadata": {},
   "outputs": [
    {
     "data": {
      "text/plain": [
       "array(['726.5940', '794.5690', '670.5230', '389.1970', '563.5780',\n",
       "       '239.0880', '167.0340', '750.5440', '700.5820', '291.0870',\n",
       "       '160.0590', '861.8270', '846.6530', '759.4680', '265.1080',\n",
       "       '164.0810', '921.7620', '896.7460', '401.2460', '157.0520',\n",
       "       '199.8650', '790.5420', '250.1200', '762.4950', '316.9140',\n",
       "       '766.5400', '162.9680', '671.4660', '653.4900', '718.5990',\n",
       "       '797.7120', '716.5260', '727.5310', '695.4630', '403.2620',\n",
       "       '437.2690', '501.2580', '698.4860', '297.1210', '294.1470',\n",
       "       '845.6480', '489.2600', '844.6450', '490.1540', '385.3830',\n",
       "       '377.2460', '405.2760', '789.5250', '371.1740', '215.0340',\n",
       "       '776.6210', '788.5560', '616.4700', '361.1630', '333.0960',\n",
       "       '198.9980', '156.9950', '796.5840', '418.1840', '266.1150',\n",
       "       '679.5070', '365.3430', '772.5860', '795.6380', '460.2330',\n",
       "       '797.6570', '463.2300', '723.4990', '798.6620', '672.4690',\n",
       "       '290.0880', '795.5720', '462.3270', '488.2610', '201.9670',\n",
       "       '410.2410', '763.4990', '271.2270', '279.0390', '197.8610',\n",
       "       '764.5200', '725.5130', '294.1820', '160.9000', '836.5550',\n",
       "       '180.0330', '333.1330', '363.1750', '617.2720', '774.6000',\n",
       "       '241.0940', '248.1040', '273.3500', '798.7120', '160.2980',\n",
       "       '184.9770', '445.2030', '887.5670', '428.1990', '545.3270',\n",
       "       '159.0680', '922.7660', '383.3330', '264.3480', '461.2330',\n",
       "       '309.1930', '816.5520', '292.1350', '799.7200', '180.0770',\n",
       "       '220.1960', '223.1090', '792.5540', '499.3680', '381.3360',\n",
       "       '169.1580', '841.6970', '167.0690', '857.5230', '818.5670',\n",
       "       '374.1110', '221.1510', '192.0340', '979.7350', '701.5140',\n",
       "       '508.3410', '430.1850', '265.1480', '293.1780', '443.2540',\n",
       "       '308.1330', '771.6430', '444.2020', '388.1630', '163.0510',\n",
       "       '295.2270', '208.0720', '474.2460', '537.4900', '713.5130',\n",
       "       '209.1550', '196.9700', '263.3470', '365.1080', '276.3540',\n",
       "       '785.4860', '439.2270', '167.0450', '375.2300', '366.1780',\n",
       "       '681.5140', '423.1810', '658.5250', '867.7180', '156.0110',\n",
       "       '155.1430', '775.5470', '652.2620', '981.7480', '862.6540',\n",
       "       '338.1470', '778.6320', '436.2860', '297.2430', '177.0680',\n",
       "       '166.0610', '166.0530', '645.4500', '487.2090', '349.2540',\n",
       "       '268.1310', '367.3640', '387.1430', '844.7030', '904.6740',\n",
       "       '377.1930', '838.6790', '163.0190', '299.2600', '994.6280',\n",
       "       '565.5220', '189.0570', '754.6190', '167.0810', '272.0760',\n",
       "       '866.7100', '167.1430', '169.1230', '478.2960', '171.1020',\n",
       "       '190.9620', '421.2700', '187.0410', '631.2990', '232.1090',\n",
       "       '261.3450', '864.6580', '354.1780', '464.3150', '811.6600',\n",
       "       '834.6190', '299.4810', '406.1710', '590.2180', '544.4500',\n",
       "       '715.5850', '670.5780', '570.4660', '886.6180', '295.1410',\n",
       "       '888.6830', '400.1010', '242.0930', '531.2690', '869.7250',\n",
       "       '700.5040', '554.3250', '472.2310', '168.0660', '955.7250',\n",
       "       '595.3460', '153.1760', '408.2250', '194.0930', '351.1680',\n",
       "       '594.3670', '176.9960', '293.1380', '386.3880', '359.1720',\n",
       "       '887.6260', '432.1620', '235.1700', '334.1450', '192.9900',\n",
       "       '390.1540', '267.1470', '615.2210', '174.0460', '176.3270',\n",
       "       '499.2430', '318.1140', '404.2660', '791.5420', '594.6090',\n",
       "       '329.2500', '613.3900'], dtype='<U8')"
      ]
     },
     "execution_count": 222,
     "metadata": {},
     "output_type": "execute_result"
    }
   ],
   "source": [
    "feature_RFE = fc.loc[:,['molecular_features']]\n",
    "mf = feature_RFE.values\n",
    "mf = mf.flatten()\n",
    "mf = mf.astype(np.float)\n",
    "mf = list(map('{:.4f}'.format,mf))\n",
    "mf = np.array([str(x) for x in mf])\n",
    "mf"
   ]
  },
  {
   "cell_type": "code",
   "execution_count": 223,
   "metadata": {},
   "outputs": [],
   "source": [
    "mf = mf[:80]"
   ]
  },
  {
   "cell_type": "code",
   "execution_count": 519,
   "metadata": {},
   "outputs": [
    {
     "data": {
      "text/plain": [
       "array(['726.5940', '794.5690', '670.5230', '167.0340', '239.0880',\n",
       "       '389.1970', '700.5820', '291.0870', '750.5440', '563.5780',\n",
       "       '861.8270', '160.0590', '921.7620', '157.0520', '846.6530',\n",
       "       '164.0810', '896.7460', '759.4680', '250.1200', '401.2460',\n",
       "       '265.1080', '671.4660', '653.4900', '316.9140', '199.8650',\n",
       "       '405.2760', '501.2580', '762.4950', '437.2690', '616.4700',\n",
       "       '716.5260', '727.5310', '162.9680', '790.5420', '297.1210',\n",
       "       '403.2620', '418.1840', '718.5990', '371.1740', '766.5400',\n",
       "       '294.1470', '797.7120', '290.0880', '701.5140', '490.1540',\n",
       "       '695.4630', '215.0340', '698.4860', '489.2600', '198.9980',\n",
       "       '385.3830', '377.2460', '333.0960', '789.5250', '844.6450',\n",
       "       '776.6210', '365.3430', '241.0940', '488.2610', '264.3480',\n",
       "       '271.2270', '679.5070', '845.6480', '723.4990', '979.7350',\n",
       "       '788.5560', '461.2330', '545.3270', '201.9670', '460.2330',\n",
       "       '333.1330', '361.1630', '463.2300', '156.9950', '429.3810',\n",
       "       '798.6620', '220.1960', '383.3330', '410.2410', '294.1820',\n",
       "       '772.5860', '279.0390', '209.1550', '725.5130', '266.1150',\n",
       "       '155.1430', '180.0770', '167.0450', '273.3500', '421.2700',\n",
       "       '981.7480', '338.1470', '795.6380', '796.5840', '617.2720',\n",
       "       '180.0330', '309.1930', '836.5550', '795.5720', '797.6570',\n",
       "       '160.9000', '248.1040', '763.4990', '508.3410', '197.8610',\n",
       "       '208.0720', '672.4690', '223.1090', '169.1580', '171.1020',\n",
       "       '159.0680', '462.3270', '774.6000', '221.1510', '156.0110',\n",
       "       '363.1750', '443.2540', '841.6970', '922.7660', '184.9770',\n",
       "       '955.7250', '377.1930', '308.1330', '293.1780', '265.1480',\n",
       "       '798.7120', '192.0340', '764.5200', '374.1110', '474.2460',\n",
       "       '167.0810', '658.5250', '166.0610', '297.2430', '594.3670',\n",
       "       '177.0680', '167.0690', '445.2030', '439.2270', '160.2980',\n",
       "       '441.2430', '227.1030', '771.6430', '799.7200', '381.3360',\n",
       "       '430.1850', '857.5230', '428.1990', '652.2620', '867.7180',\n",
       "       '196.9700', '713.5130', '887.5670', '152.0440', '436.2860',\n",
       "       '499.2430', '792.5540', '895.7430', '366.1780', '818.5670',\n",
       "       '292.1350', '816.5520', '388.1630', '179.1180', '687.5450',\n",
       "       '544.4500', '197.0930', '295.2270', '163.0510', '688.5500',\n",
       "       '166.0530', '199.1340', '375.2300', '157.0870', '189.0570',\n",
       "       '862.6540', '217.0490', '601.5160', '487.2090', '263.3470',\n",
       "       '866.7100', '225.1240', '775.5470', '236.1400', '153.0300',\n",
       "       '365.1080', '700.5040', '154.0790', '423.1810', '400.1010',\n",
       "       '554.3250', '499.3680', '187.0410', '537.4900', '887.6260',\n",
       "       '404.2660', '631.2990', '770.5710', '268.1310', '365.2210',\n",
       "       '318.1140', '151.0330', '208.1080', '565.5220', '267.1470',\n",
       "       '168.0660', '785.4860', '778.6320', '817.5530', '737.4740',\n",
       "       '293.1380', '595.3460', '444.2020', '192.9900', '227.1250',\n",
       "       '155.0810', '276.3540', '615.1730', '339.2530', '354.1780',\n",
       "       '645.4500', '176.9960', '918.7410', '367.3640', '919.7520',\n",
       "       '681.5140', '615.2210', '258.1130', '531.2690', '844.7030',\n",
       "       '299.4810', '594.6090', '811.6600', '453.2600', '994.6280',\n",
       "       '200.1740', '230.9770', '613.3900', '333.2810', '165.0360',\n",
       "       '671.2530', '163.0190', '590.2180', '904.6740', '915.7210',\n",
       "       '647.4640', '160.0680', '213.1490', '838.6790', '231.1240',\n",
       "       '309.1580', '169.1230', '277.2170', '381.3050', '839.6890',\n",
       "       '588.8970', '728.5590', '167.1430', '299.2600', '261.3450',\n",
       "       '185.1540', '834.5660', '190.9620', '325.1850', '311.1700',\n",
       "       '290.1160', '678.4630', '272.0760', '339.3290', '234.1240',\n",
       "       '341.2210', '349.2540', '834.6190', '464.3150', '754.6190',\n",
       "       '478.2960', '761.4870', '232.1090', '864.6580', '659.4670',\n",
       "       '387.1430', '309.1720', '219.1190', '573.4850', '670.5780',\n",
       "       '386.3880', '570.4660', '209.0930', '519.2690', '194.9960',\n",
       "       '373.1280', '263.1110', '351.1680', '259.3450', '352.1620',\n",
       "       '205.0980', '715.5850', '186.0440', '340.2030', '312.1720',\n",
       "       '187.1340', '406.1710', '727.5980', '886.6180', '295.1410',\n",
       "       '165.0650', '302.0660', '888.6830', '242.0930', '201.0670',\n",
       "       '869.7250', '472.2310', '479.2750', '153.1760', '408.2250',\n",
       "       '290.1510', '194.0930', '329.2500', '697.4820', '214.9820',\n",
       "       '656.5750', '359.1720', '224.1040', '463.3300', '328.2400',\n",
       "       '432.1620', '395.1360', '320.1290', '778.5730', '576.4940',\n",
       "       '235.1700', '334.1450', '169.0610', '159.1040', '199.2090',\n",
       "       '262.3440', '340.1630', '243.0610', '152.0850', '390.1540',\n",
       "       '174.0460', '171.1380', '158.1260', '157.1220', '154.0650',\n",
       "       '176.3270', '219.2160', '150.9820', '747.5120', '791.5420',\n",
       "       '920.7570'], dtype=object)"
      ]
     },
     "execution_count": 519,
     "metadata": {},
     "output_type": "execute_result"
    }
   ],
   "source": [
    "feature_RFE = fc_rskf.loc[:,['molecular_features']]\n",
    "mf = feature_RFE.values\n",
    "mf = mf.flatten()\n",
    "mf"
   ]
  },
  {
   "cell_type": "code",
   "execution_count": 511,
   "metadata": {},
   "outputs": [],
   "source": [
    "dataVars_norm[mf].to_csv('/Users/teeraponsahwangarrom/Desktop/fsRFE_newRSKFData.csv')"
   ]
  },
  {
   "cell_type": "code",
   "execution_count": 152,
   "metadata": {
    "scrolled": true
   },
   "outputs": [
    {
     "name": "stdout",
     "output_type": "stream",
     "text": [
      "Round:  0 LR\n",
      "Accuracy:  86.6096866096866\n",
      "Sensitivity:  82.85714285714286\n",
      "Specificity:  89.0995260663507\n",
      "Round:  1 LR\n",
      "Accuracy:  88.6039886039886\n",
      "Sensitivity:  82.14285714285714\n",
      "Specificity:  92.89099526066352\n",
      "Round:  2 LR\n",
      "Accuracy:  90.5982905982906\n",
      "Sensitivity:  87.76978417266187\n",
      "Specificity:  92.45283018867924\n",
      "Round:  3 LR\n",
      "Accuracy:  92.5925925925926\n",
      "Sensitivity:  89.20863309352518\n",
      "Specificity:  94.81132075471697\n",
      "Round:  4 LR\n",
      "Accuracy:  88.88888888888889\n",
      "Sensitivity:  83.45323741007195\n",
      "Specificity:  92.45283018867924\n",
      "Round:  5 LR\n",
      "Accuracy:  90.5982905982906\n",
      "Sensitivity:  88.57142857142857\n",
      "Specificity:  91.9431279620853\n",
      "Round:  6 LR\n",
      "Accuracy:  89.45868945868945\n",
      "Sensitivity:  83.57142857142857\n",
      "Specificity:  93.36492890995261\n",
      "Round:  7 LR\n",
      "Accuracy:  89.45868945868945\n",
      "Sensitivity:  83.45323741007195\n",
      "Specificity:  93.39622641509435\n",
      "Round:  8 LR\n",
      "Accuracy:  88.6039886039886\n",
      "Sensitivity:  87.05035971223022\n",
      "Specificity:  89.62264150943396\n",
      "Round:  9 LR\n",
      "Accuracy:  88.6039886039886\n",
      "Sensitivity:  82.01438848920863\n",
      "Specificity:  92.9245283018868\n"
     ]
    }
   ],
   "source": [
    "#### To calculate sensitivity and specificity \n",
    "from collections import Counter\n",
    "from sklearn.metrics import confusion_matrix\n",
    "from sklearn.ensemble import RandomForestClassifier\n",
    "from sklearn.model_selection import ShuffleSplit\n",
    "models = []\n",
    "models.append(('LR', LogisticRegression(solver='liblinear')))\n",
    "#models.append(('LDA', LinearDiscriminantAnalysis()))\n",
    "#models.append(('KNN', KNeighborsClassifier()))\n",
    "#models.append(('CART', DecisionTreeClassifier()))\n",
    "#models.append(('NB', GaussianNB()))\n",
    "#models.append(('SVM', SVC()))\n",
    "#models.append(('XGB', XGBClassifier(max_depth =4, n_estimators=150)))\n",
    "\n",
    "#models.append(('RF', RandomForestClassifier(max_features=6, n_estimators=1000)))\n",
    "modelList = ['LR']\n",
    "results = []\n",
    "names = []\n",
    "scoring = 'accuracy'\n",
    "\n",
    "# Store results in a pandas dataframe\n",
    "numIterations = 10\n",
    "idx = 80\n",
    "allAccuracy = pd.DataFrame(index=range(0,numIterations), columns=modelList)\n",
    "allSensitivity = pd.DataFrame(index=range(0,numIterations), columns=modelList)\n",
    "allSpecificity = pd.DataFrame(index=range(0,numIterations), columns=modelList)\n",
    "\n",
    "rskf = RepeatedStratifiedKFold(n_splits=5, n_repeats = 2, random_state=42)\n",
    "\n",
    "for n,(train_idx, test_idx) in enumerate(rskf.split(dataVars_norm, data['Tissue_type']),0):\n",
    "    \n",
    "    for name, model in models:\n",
    "        \n",
    "        \n",
    "    \n",
    "        X_train = dataVars_norm.iloc[train_idx]\n",
    "        y_train = data['Tissue_type'].iloc[train_idx]\n",
    "        X_test = dataVars_norm.iloc[test_idx]\n",
    "        y_test = data['Tissue_type'].iloc[test_idx]\n",
    "        \n",
    "        #feature_RFE = fc_rkf.loc[:,['molecular_features']]\n",
    "        \n",
    "        #mf = feature_RFE[:idx].values\n",
    "        #mf = mf.flatten()\n",
    "        fs = mf[:idx]\n",
    "        \n",
    "        \n",
    "    # Cross validated model generation\n",
    "        model.fit(X_train[fs], y_train)\n",
    "        y_pred = model.predict(X_test[fs])\n",
    "        \n",
    "        \n",
    "        cm = confusion_matrix(y_test, y_pred)\n",
    "        total = sum(sum(cm))\n",
    "        print('Round: ', n, name)\n",
    "        Accuracy = (cm[0,0]+cm[1,1])/total\n",
    "        print('Accuracy: ', Accuracy*100)\n",
    "        \n",
    "        Sensitivity = cm[0,0]/(cm[0,0]+cm[0,1])\n",
    "        print('Sensitivity: ', Sensitivity*100)\n",
    "        Specificity = cm[1,1]/(cm[1,0]+cm[1,1])\n",
    "        print('Specificity: ', Specificity*100)\n",
    "        \n",
    "        \n",
    "        allAccuracy.iloc[n][name] = Accuracy*100\n",
    "        allSensitivity.iloc[n][name] = Sensitivity*100\n",
    "        allSpecificity.iloc[n][name] = Specificity*100\n",
    "        "
   ]
  },
  {
   "cell_type": "code",
   "execution_count": 153,
   "metadata": {
    "scrolled": true
   },
   "outputs": [
    {
     "data": {
      "text/plain": [
       "LR    89.401709\n",
       "dtype: float64"
      ]
     },
     "execution_count": 153,
     "metadata": {},
     "output_type": "execute_result"
    }
   ],
   "source": [
    "allAccuracy.mean()"
   ]
  },
  {
   "cell_type": "code",
   "execution_count": 143,
   "metadata": {},
   "outputs": [
    {
     "data": {
      "text/plain": [
       "LR    1.197109\n",
       "dtype: float64"
      ]
     },
     "execution_count": 143,
     "metadata": {},
     "output_type": "execute_result"
    }
   ],
   "source": [
    "allAccuracy.std()"
   ]
  },
  {
   "cell_type": "code",
   "execution_count": 144,
   "metadata": {},
   "outputs": [
    {
     "data": {
      "text/plain": [
       "LR    84.579137\n",
       "dtype: float64"
      ]
     },
     "execution_count": 144,
     "metadata": {},
     "output_type": "execute_result"
    }
   ],
   "source": [
    "allSensitivity.mean()"
   ]
  },
  {
   "cell_type": "code",
   "execution_count": 145,
   "metadata": {
    "scrolled": true
   },
   "outputs": [
    {
     "data": {
      "text/plain": [
       "LR    92.153715\n",
       "dtype: float64"
      ]
     },
     "execution_count": 145,
     "metadata": {},
     "output_type": "execute_result"
    }
   ],
   "source": [
    "allSpecificity.mean()"
   ]
  },
  {
   "cell_type": "code",
   "execution_count": 102,
   "metadata": {},
   "outputs": [
    {
     "name": "stdout",
     "output_type": "stream",
     "text": [
      "Train: Breast = 1102, Colorectal = 240, Gynae = 62\n",
      "Test: Breast = 265, Colorectal = 64, Gynae = 22\n",
      "Train: Breast = 1089, Colorectal = 247, Gynae = 68\n",
      "Test: Breast = 278, Colorectal = 57, Gynae = 16\n",
      "Train: Breast = 1083, Colorectal = 252, Gynae = 69\n",
      "Test: Breast = 284, Colorectal = 52, Gynae = 15\n",
      "Train: Breast = 1099, Colorectal = 239, Gynae = 66\n",
      "Test: Breast = 268, Colorectal = 65, Gynae = 18\n",
      "Train: Breast = 1095, Colorectal = 238, Gynae = 71\n",
      "Test: Breast = 272, Colorectal = 66, Gynae = 13\n"
     ]
    }
   ],
   "source": [
    "skf = StratifiedKFold(n_splits=5, random_state=42, shuffle=True)\n",
    "for train_idx, test_idx in skf.split(dataVars_norm, data['Tissue_type']):\n",
    "    train_X, test_X = dataVars_norm.iloc[train_idx], dataVars_norm.iloc[test_idx]\n",
    "    train_y, test_y = data['Tissue'].iloc[train_idx], data['Tissue'].iloc[test_idx]\n",
    "    \n",
    "    train_Breast, train_Colorectal, train_Gynae = len(train_y[train_y==\"Breast\"]), len(train_y[train_y==\"Colorectal\"]), len(train_y[train_y==\"Gynae\"])\n",
    "    test_Breast, test_Colorectal, test_Gynae = len(test_y[test_y==\"Breast\"]), len(test_y[test_y==\"Colorectal\"]), len(test_y[test_y==\"Gynae\"])\n",
    "    print('Train: Breast = %d, Colorectal = %d, Gynae = %d' % (train_Breast, train_Colorectal, train_Gynae))\n",
    "    \n",
    "    print('Test: Breast = %d, Colorectal = %d, Gynae = %d' % (test_Breast, test_Colorectal, test_Gynae))\n",
    "    "
   ]
  },
  {
   "cell_type": "code",
   "execution_count": 203,
   "metadata": {
    "scrolled": false
   },
   "outputs": [
    {
     "name": "stdout",
     "output_type": "stream",
     "text": [
      "Train: Breast = 1085, Colorectal = 260, Gynae = 59\n",
      "Test: Breast = 282, Colorectal = 44, Gynae = 25\n",
      "Train: Breast = 1096, Colorectal = 238, Gynae = 70\n",
      "Test: Breast = 271, Colorectal = 66, Gynae = 14\n",
      "Train: Breast = 1090, Colorectal = 244, Gynae = 70\n",
      "Test: Breast = 277, Colorectal = 60, Gynae = 14\n",
      "Train: Breast = 1082, Colorectal = 253, Gynae = 69\n",
      "Test: Breast = 285, Colorectal = 51, Gynae = 15\n",
      "Train: Breast = 1115, Colorectal = 221, Gynae = 68\n",
      "Test: Breast = 252, Colorectal = 83, Gynae = 16\n",
      "Train: Breast = 1091, Colorectal = 242, Gynae = 71\n",
      "Test: Breast = 276, Colorectal = 62, Gynae = 13\n",
      "Train: Breast = 1090, Colorectal = 243, Gynae = 71\n",
      "Test: Breast = 277, Colorectal = 61, Gynae = 13\n",
      "Train: Breast = 1088, Colorectal = 249, Gynae = 67\n",
      "Test: Breast = 279, Colorectal = 55, Gynae = 17\n",
      "Train: Breast = 1113, Colorectal = 228, Gynae = 63\n",
      "Test: Breast = 254, Colorectal = 76, Gynae = 21\n",
      "Train: Breast = 1086, Colorectal = 254, Gynae = 64\n",
      "Test: Breast = 281, Colorectal = 50, Gynae = 20\n"
     ]
    }
   ],
   "source": [
    "rkf = RepeatedKFold(n_splits=5, n_repeats=2, random_state=42)\n",
    "for train_idx, test_idx in rkf.split(dataVars_norm, data['Tissue_type']):\n",
    "    train_X, test_X = dataVars_norm.iloc[train_idx], dataVars_norm.iloc[test_idx]\n",
    "    train_y, test_y = data['Tissue'].iloc[train_idx], data['Tissue'].iloc[test_idx]\n",
    "    \n",
    "    train_Breast, train_Colorectal, train_Gynae = len(train_y[train_y==\"Breast\"]), len(train_y[train_y==\"Colorectal\"]), len(train_y[train_y==\"Gynae\"])\n",
    "    test_Breast, test_Colorectal, test_Gynae = len(test_y[test_y==\"Breast\"]), len(test_y[test_y==\"Colorectal\"]), len(test_y[test_y==\"Gynae\"])\n",
    "    print('Train: Breast = %d, Colorectal = %d, Gynae = %d' % (train_Breast, train_Colorectal, train_Gynae))\n",
    "    \n",
    "    print('Test: Breast = %d, Colorectal = %d, Gynae = %d' % (test_Breast, test_Colorectal, test_Gynae))\n",
    "    "
   ]
  },
  {
   "cell_type": "code",
   "execution_count": 135,
   "metadata": {},
   "outputs": [
    {
     "name": "stdout",
     "output_type": "stream",
     "text": [
      "Train: Breast = 1085, Colorectal = 260, Gynae = 59\n",
      "Test: Breast = 282, Colorectal = 44, Gynae = 25\n",
      "Train: Breast = 1096, Colorectal = 238, Gynae = 70\n",
      "Test: Breast = 271, Colorectal = 66, Gynae = 14\n",
      "Train: Breast = 1090, Colorectal = 244, Gynae = 70\n",
      "Test: Breast = 277, Colorectal = 60, Gynae = 14\n",
      "Train: Breast = 1082, Colorectal = 253, Gynae = 69\n",
      "Test: Breast = 285, Colorectal = 51, Gynae = 15\n",
      "Train: Breast = 1115, Colorectal = 221, Gynae = 68\n",
      "Test: Breast = 252, Colorectal = 83, Gynae = 16\n",
      "Train: Breast = 1091, Colorectal = 242, Gynae = 71\n",
      "Test: Breast = 276, Colorectal = 62, Gynae = 13\n",
      "Train: Breast = 1090, Colorectal = 243, Gynae = 71\n",
      "Test: Breast = 277, Colorectal = 61, Gynae = 13\n",
      "Train: Breast = 1088, Colorectal = 249, Gynae = 67\n",
      "Test: Breast = 279, Colorectal = 55, Gynae = 17\n",
      "Train: Breast = 1113, Colorectal = 228, Gynae = 63\n",
      "Test: Breast = 254, Colorectal = 76, Gynae = 21\n",
      "Train: Breast = 1086, Colorectal = 254, Gynae = 64\n",
      "Test: Breast = 281, Colorectal = 50, Gynae = 20\n",
      "Train: Breast = 1100, Colorectal = 232, Gynae = 72\n",
      "Test: Breast = 267, Colorectal = 72, Gynae = 12\n",
      "Train: Breast = 1081, Colorectal = 255, Gynae = 68\n",
      "Test: Breast = 286, Colorectal = 49, Gynae = 16\n",
      "Train: Breast = 1093, Colorectal = 243, Gynae = 68\n",
      "Test: Breast = 274, Colorectal = 61, Gynae = 16\n",
      "Train: Breast = 1091, Colorectal = 243, Gynae = 70\n",
      "Test: Breast = 276, Colorectal = 61, Gynae = 14\n",
      "Train: Breast = 1103, Colorectal = 243, Gynae = 58\n",
      "Test: Breast = 264, Colorectal = 61, Gynae = 26\n",
      "Train: Breast = 1089, Colorectal = 247, Gynae = 68\n",
      "Test: Breast = 278, Colorectal = 57, Gynae = 16\n",
      "Train: Breast = 1096, Colorectal = 236, Gynae = 72\n",
      "Test: Breast = 271, Colorectal = 68, Gynae = 12\n",
      "Train: Breast = 1099, Colorectal = 240, Gynae = 65\n",
      "Test: Breast = 268, Colorectal = 64, Gynae = 19\n",
      "Train: Breast = 1100, Colorectal = 241, Gynae = 63\n",
      "Test: Breast = 267, Colorectal = 63, Gynae = 21\n",
      "Train: Breast = 1084, Colorectal = 252, Gynae = 68\n",
      "Test: Breast = 283, Colorectal = 52, Gynae = 16\n",
      "Train: Breast = 1094, Colorectal = 248, Gynae = 62\n",
      "Test: Breast = 273, Colorectal = 56, Gynae = 22\n",
      "Train: Breast = 1107, Colorectal = 235, Gynae = 62\n",
      "Test: Breast = 260, Colorectal = 69, Gynae = 22\n",
      "Train: Breast = 1097, Colorectal = 234, Gynae = 73\n",
      "Test: Breast = 270, Colorectal = 70, Gynae = 11\n",
      "Train: Breast = 1097, Colorectal = 241, Gynae = 66\n",
      "Test: Breast = 270, Colorectal = 63, Gynae = 18\n",
      "Train: Breast = 1073, Colorectal = 258, Gynae = 73\n",
      "Test: Breast = 294, Colorectal = 46, Gynae = 11\n"
     ]
    }
   ],
   "source": [
    "from sklearn.model_selection import RepeatedKFold\n",
    "rkf = RepeatedKFold(n_splits=5,n_repeats= 5, random_state=42)\n",
    "for train_idx, test_idx in rkf.split(dataVars_norm, data['Tissue_type']):\n",
    "    train_X, test_X = dataVars_norm.iloc[train_idx], dataVars_norm.iloc[test_idx]\n",
    "    train_y, test_y = data['Tissue'].iloc[train_idx], data['Tissue'].iloc[test_idx]\n",
    "    \n",
    "    train_Breast, train_Colorectal, train_Gynae = len(train_y[train_y==\"Breast\"]), len(train_y[train_y==\"Colorectal\"]), len(train_y[train_y==\"Gynae\"])\n",
    "    test_Breast, test_Colorectal, test_Gynae = len(test_y[test_y==\"Breast\"]), len(test_y[test_y==\"Colorectal\"]), len(test_y[test_y==\"Gynae\"])\n",
    "    print('Train: Breast = %d, Colorectal = %d, Gynae = %d' % (train_Breast, train_Colorectal, train_Gynae))\n",
    "    \n",
    "    print('Test: Breast = %d, Colorectal = %d, Gynae = %d' % (test_Breast, test_Colorectal, test_Gynae))\n",
    "    "
   ]
  },
  {
   "cell_type": "code",
   "execution_count": 97,
   "metadata": {
    "scrolled": false
   },
   "outputs": [
    {
     "data": {
      "text/plain": [
       "<matplotlib.axes._subplots.AxesSubplot at 0x7f817cdcea58>"
      ]
     },
     "execution_count": 97,
     "metadata": {},
     "output_type": "execute_result"
    },
    {
     "data": {
      "image/png": "[encoded data removed]",
      "text/plain": [
       "<Figure size 720x504 with 2 Axes>"
      ]
     },
     "metadata": {
      "needs_background": "light"
     },
     "output_type": "display_data"
    }
   ],
   "source": [
    "print_confusion_matix(cm, class_names=['Cancer','Normal'], figsize = (10,7), fontsize=14)"
   ]
  },
  {
   "cell_type": "code",
   "execution_count": null,
   "metadata": {},
   "outputs": [],
   "source": []
  }
 ],
 "metadata": {
  "kernelspec": {
   "display_name": "Python 3",
   "language": "python",
   "name": "python3"
  },
  "language_info": {
   "codemirror_mode": {
    "name": "ipython",
    "version": 3
   },
   "file_extension": ".py",
   "mimetype": "text/x-python",
   "name": "python",
   "nbconvert_exporter": "python",
   "pygments_lexer": "ipython3",
   "version": "3.6.7"
  }
 },
 "nbformat": 4,
 "nbformat_minor": 4
}
